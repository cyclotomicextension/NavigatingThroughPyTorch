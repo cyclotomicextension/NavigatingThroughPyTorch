{
  "nbformat": 4,
  "nbformat_minor": 0,
  "metadata": {
    "colab": {
      "provenance": []
    },
    "kernelspec": {
      "name": "python3",
      "display_name": "Python 3"
    },
    "language_info": {
      "name": "python"
    },
    "accelerator": "GPU",
    "gpuClass": "standard",
    "widgets": {
      "application/vnd.jupyter.widget-state+json": {
        "941c69dbb3294c4a95fa6bb13b969ea0": {
          "model_module": "@jupyter-widgets/controls",
          "model_name": "HBoxModel",
          "model_module_version": "1.5.0",
          "state": {
            "_dom_classes": [],
            "_model_module": "@jupyter-widgets/controls",
            "_model_module_version": "1.5.0",
            "_model_name": "HBoxModel",
            "_view_count": null,
            "_view_module": "@jupyter-widgets/controls",
            "_view_module_version": "1.5.0",
            "_view_name": "HBoxView",
            "box_style": "",
            "children": [
              "IPY_MODEL_b176b3c1ac364e8dbf7322b52b4a4c37",
              "IPY_MODEL_0ada24c9a32a49499616cebf2a03f9c3",
              "IPY_MODEL_ca2acada23164f97805a4d0057e34145"
            ],
            "layout": "IPY_MODEL_1638f734d65644ab843d6da689c205cb"
          }
        },
        "b176b3c1ac364e8dbf7322b52b4a4c37": {
          "model_module": "@jupyter-widgets/controls",
          "model_name": "HTMLModel",
          "model_module_version": "1.5.0",
          "state": {
            "_dom_classes": [],
            "_model_module": "@jupyter-widgets/controls",
            "_model_module_version": "1.5.0",
            "_model_name": "HTMLModel",
            "_view_count": null,
            "_view_module": "@jupyter-widgets/controls",
            "_view_module_version": "1.5.0",
            "_view_name": "HTMLView",
            "description": "",
            "description_tooltip": null,
            "layout": "IPY_MODEL_4b391fe85a9e4f3c984acbb2247a2492",
            "placeholder": "​",
            "style": "IPY_MODEL_5dec07ea4b9c45f085e59feb1d0e85a3",
            "value": "100%"
          }
        },
        "0ada24c9a32a49499616cebf2a03f9c3": {
          "model_module": "@jupyter-widgets/controls",
          "model_name": "FloatProgressModel",
          "model_module_version": "1.5.0",
          "state": {
            "_dom_classes": [],
            "_model_module": "@jupyter-widgets/controls",
            "_model_module_version": "1.5.0",
            "_model_name": "FloatProgressModel",
            "_view_count": null,
            "_view_module": "@jupyter-widgets/controls",
            "_view_module_version": "1.5.0",
            "_view_name": "ProgressView",
            "bar_style": "success",
            "description": "",
            "description_tooltip": null,
            "layout": "IPY_MODEL_15deb32589294242bbc73405a1457f9f",
            "max": 26421880,
            "min": 0,
            "orientation": "horizontal",
            "style": "IPY_MODEL_c8b488f807954766b759c08591c1d344",
            "value": 26421880
          }
        },
        "ca2acada23164f97805a4d0057e34145": {
          "model_module": "@jupyter-widgets/controls",
          "model_name": "HTMLModel",
          "model_module_version": "1.5.0",
          "state": {
            "_dom_classes": [],
            "_model_module": "@jupyter-widgets/controls",
            "_model_module_version": "1.5.0",
            "_model_name": "HTMLModel",
            "_view_count": null,
            "_view_module": "@jupyter-widgets/controls",
            "_view_module_version": "1.5.0",
            "_view_name": "HTMLView",
            "description": "",
            "description_tooltip": null,
            "layout": "IPY_MODEL_80e9a6a5c1474d66880ea88f146f30c7",
            "placeholder": "​",
            "style": "IPY_MODEL_3db81a34e247473f83629359f9d7ee73",
            "value": " 26421880/26421880 [00:00&lt;00:00, 117438049.41it/s]"
          }
        },
        "1638f734d65644ab843d6da689c205cb": {
          "model_module": "@jupyter-widgets/base",
          "model_name": "LayoutModel",
          "model_module_version": "1.2.0",
          "state": {
            "_model_module": "@jupyter-widgets/base",
            "_model_module_version": "1.2.0",
            "_model_name": "LayoutModel",
            "_view_count": null,
            "_view_module": "@jupyter-widgets/base",
            "_view_module_version": "1.2.0",
            "_view_name": "LayoutView",
            "align_content": null,
            "align_items": null,
            "align_self": null,
            "border": null,
            "bottom": null,
            "display": null,
            "flex": null,
            "flex_flow": null,
            "grid_area": null,
            "grid_auto_columns": null,
            "grid_auto_flow": null,
            "grid_auto_rows": null,
            "grid_column": null,
            "grid_gap": null,
            "grid_row": null,
            "grid_template_areas": null,
            "grid_template_columns": null,
            "grid_template_rows": null,
            "height": null,
            "justify_content": null,
            "justify_items": null,
            "left": null,
            "margin": null,
            "max_height": null,
            "max_width": null,
            "min_height": null,
            "min_width": null,
            "object_fit": null,
            "object_position": null,
            "order": null,
            "overflow": null,
            "overflow_x": null,
            "overflow_y": null,
            "padding": null,
            "right": null,
            "top": null,
            "visibility": null,
            "width": null
          }
        },
        "4b391fe85a9e4f3c984acbb2247a2492": {
          "model_module": "@jupyter-widgets/base",
          "model_name": "LayoutModel",
          "model_module_version": "1.2.0",
          "state": {
            "_model_module": "@jupyter-widgets/base",
            "_model_module_version": "1.2.0",
            "_model_name": "LayoutModel",
            "_view_count": null,
            "_view_module": "@jupyter-widgets/base",
            "_view_module_version": "1.2.0",
            "_view_name": "LayoutView",
            "align_content": null,
            "align_items": null,
            "align_self": null,
            "border": null,
            "bottom": null,
            "display": null,
            "flex": null,
            "flex_flow": null,
            "grid_area": null,
            "grid_auto_columns": null,
            "grid_auto_flow": null,
            "grid_auto_rows": null,
            "grid_column": null,
            "grid_gap": null,
            "grid_row": null,
            "grid_template_areas": null,
            "grid_template_columns": null,
            "grid_template_rows": null,
            "height": null,
            "justify_content": null,
            "justify_items": null,
            "left": null,
            "margin": null,
            "max_height": null,
            "max_width": null,
            "min_height": null,
            "min_width": null,
            "object_fit": null,
            "object_position": null,
            "order": null,
            "overflow": null,
            "overflow_x": null,
            "overflow_y": null,
            "padding": null,
            "right": null,
            "top": null,
            "visibility": null,
            "width": null
          }
        },
        "5dec07ea4b9c45f085e59feb1d0e85a3": {
          "model_module": "@jupyter-widgets/controls",
          "model_name": "DescriptionStyleModel",
          "model_module_version": "1.5.0",
          "state": {
            "_model_module": "@jupyter-widgets/controls",
            "_model_module_version": "1.5.0",
            "_model_name": "DescriptionStyleModel",
            "_view_count": null,
            "_view_module": "@jupyter-widgets/base",
            "_view_module_version": "1.2.0",
            "_view_name": "StyleView",
            "description_width": ""
          }
        },
        "15deb32589294242bbc73405a1457f9f": {
          "model_module": "@jupyter-widgets/base",
          "model_name": "LayoutModel",
          "model_module_version": "1.2.0",
          "state": {
            "_model_module": "@jupyter-widgets/base",
            "_model_module_version": "1.2.0",
            "_model_name": "LayoutModel",
            "_view_count": null,
            "_view_module": "@jupyter-widgets/base",
            "_view_module_version": "1.2.0",
            "_view_name": "LayoutView",
            "align_content": null,
            "align_items": null,
            "align_self": null,
            "border": null,
            "bottom": null,
            "display": null,
            "flex": null,
            "flex_flow": null,
            "grid_area": null,
            "grid_auto_columns": null,
            "grid_auto_flow": null,
            "grid_auto_rows": null,
            "grid_column": null,
            "grid_gap": null,
            "grid_row": null,
            "grid_template_areas": null,
            "grid_template_columns": null,
            "grid_template_rows": null,
            "height": null,
            "justify_content": null,
            "justify_items": null,
            "left": null,
            "margin": null,
            "max_height": null,
            "max_width": null,
            "min_height": null,
            "min_width": null,
            "object_fit": null,
            "object_position": null,
            "order": null,
            "overflow": null,
            "overflow_x": null,
            "overflow_y": null,
            "padding": null,
            "right": null,
            "top": null,
            "visibility": null,
            "width": null
          }
        },
        "c8b488f807954766b759c08591c1d344": {
          "model_module": "@jupyter-widgets/controls",
          "model_name": "ProgressStyleModel",
          "model_module_version": "1.5.0",
          "state": {
            "_model_module": "@jupyter-widgets/controls",
            "_model_module_version": "1.5.0",
            "_model_name": "ProgressStyleModel",
            "_view_count": null,
            "_view_module": "@jupyter-widgets/base",
            "_view_module_version": "1.2.0",
            "_view_name": "StyleView",
            "bar_color": null,
            "description_width": ""
          }
        },
        "80e9a6a5c1474d66880ea88f146f30c7": {
          "model_module": "@jupyter-widgets/base",
          "model_name": "LayoutModel",
          "model_module_version": "1.2.0",
          "state": {
            "_model_module": "@jupyter-widgets/base",
            "_model_module_version": "1.2.0",
            "_model_name": "LayoutModel",
            "_view_count": null,
            "_view_module": "@jupyter-widgets/base",
            "_view_module_version": "1.2.0",
            "_view_name": "LayoutView",
            "align_content": null,
            "align_items": null,
            "align_self": null,
            "border": null,
            "bottom": null,
            "display": null,
            "flex": null,
            "flex_flow": null,
            "grid_area": null,
            "grid_auto_columns": null,
            "grid_auto_flow": null,
            "grid_auto_rows": null,
            "grid_column": null,
            "grid_gap": null,
            "grid_row": null,
            "grid_template_areas": null,
            "grid_template_columns": null,
            "grid_template_rows": null,
            "height": null,
            "justify_content": null,
            "justify_items": null,
            "left": null,
            "margin": null,
            "max_height": null,
            "max_width": null,
            "min_height": null,
            "min_width": null,
            "object_fit": null,
            "object_position": null,
            "order": null,
            "overflow": null,
            "overflow_x": null,
            "overflow_y": null,
            "padding": null,
            "right": null,
            "top": null,
            "visibility": null,
            "width": null
          }
        },
        "3db81a34e247473f83629359f9d7ee73": {
          "model_module": "@jupyter-widgets/controls",
          "model_name": "DescriptionStyleModel",
          "model_module_version": "1.5.0",
          "state": {
            "_model_module": "@jupyter-widgets/controls",
            "_model_module_version": "1.5.0",
            "_model_name": "DescriptionStyleModel",
            "_view_count": null,
            "_view_module": "@jupyter-widgets/base",
            "_view_module_version": "1.2.0",
            "_view_name": "StyleView",
            "description_width": ""
          }
        },
        "43f8db375dbd4b1b8121fb04b422a9e8": {
          "model_module": "@jupyter-widgets/controls",
          "model_name": "HBoxModel",
          "model_module_version": "1.5.0",
          "state": {
            "_dom_classes": [],
            "_model_module": "@jupyter-widgets/controls",
            "_model_module_version": "1.5.0",
            "_model_name": "HBoxModel",
            "_view_count": null,
            "_view_module": "@jupyter-widgets/controls",
            "_view_module_version": "1.5.0",
            "_view_name": "HBoxView",
            "box_style": "",
            "children": [
              "IPY_MODEL_bded0fdad7d64c548b03bcd6391e3059",
              "IPY_MODEL_6761b792ccd2481485af6de3ea1a5e70",
              "IPY_MODEL_8ee3d33329eb43eda322727977048d64"
            ],
            "layout": "IPY_MODEL_8fb6cb35009a4d6188e4aaad9889d3b0"
          }
        },
        "bded0fdad7d64c548b03bcd6391e3059": {
          "model_module": "@jupyter-widgets/controls",
          "model_name": "HTMLModel",
          "model_module_version": "1.5.0",
          "state": {
            "_dom_classes": [],
            "_model_module": "@jupyter-widgets/controls",
            "_model_module_version": "1.5.0",
            "_model_name": "HTMLModel",
            "_view_count": null,
            "_view_module": "@jupyter-widgets/controls",
            "_view_module_version": "1.5.0",
            "_view_name": "HTMLView",
            "description": "",
            "description_tooltip": null,
            "layout": "IPY_MODEL_e081f2a949a6444295e174ca31ae023e",
            "placeholder": "​",
            "style": "IPY_MODEL_f489cac8238a453a904c21aa6b0ab398",
            "value": "100%"
          }
        },
        "6761b792ccd2481485af6de3ea1a5e70": {
          "model_module": "@jupyter-widgets/controls",
          "model_name": "FloatProgressModel",
          "model_module_version": "1.5.0",
          "state": {
            "_dom_classes": [],
            "_model_module": "@jupyter-widgets/controls",
            "_model_module_version": "1.5.0",
            "_model_name": "FloatProgressModel",
            "_view_count": null,
            "_view_module": "@jupyter-widgets/controls",
            "_view_module_version": "1.5.0",
            "_view_name": "ProgressView",
            "bar_style": "success",
            "description": "",
            "description_tooltip": null,
            "layout": "IPY_MODEL_8e6f39928e1d421d84452d2fe37ebfc3",
            "max": 29515,
            "min": 0,
            "orientation": "horizontal",
            "style": "IPY_MODEL_f94b7479f77647d1b0540b8296e755db",
            "value": 29515
          }
        },
        "8ee3d33329eb43eda322727977048d64": {
          "model_module": "@jupyter-widgets/controls",
          "model_name": "HTMLModel",
          "model_module_version": "1.5.0",
          "state": {
            "_dom_classes": [],
            "_model_module": "@jupyter-widgets/controls",
            "_model_module_version": "1.5.0",
            "_model_name": "HTMLModel",
            "_view_count": null,
            "_view_module": "@jupyter-widgets/controls",
            "_view_module_version": "1.5.0",
            "_view_name": "HTMLView",
            "description": "",
            "description_tooltip": null,
            "layout": "IPY_MODEL_5cb0d7f3cf3f4ac28c85a2d2a71ea72c",
            "placeholder": "​",
            "style": "IPY_MODEL_f2072554420b40f38e15329476430e32",
            "value": " 29515/29515 [00:00&lt;00:00, 1573137.16it/s]"
          }
        },
        "8fb6cb35009a4d6188e4aaad9889d3b0": {
          "model_module": "@jupyter-widgets/base",
          "model_name": "LayoutModel",
          "model_module_version": "1.2.0",
          "state": {
            "_model_module": "@jupyter-widgets/base",
            "_model_module_version": "1.2.0",
            "_model_name": "LayoutModel",
            "_view_count": null,
            "_view_module": "@jupyter-widgets/base",
            "_view_module_version": "1.2.0",
            "_view_name": "LayoutView",
            "align_content": null,
            "align_items": null,
            "align_self": null,
            "border": null,
            "bottom": null,
            "display": null,
            "flex": null,
            "flex_flow": null,
            "grid_area": null,
            "grid_auto_columns": null,
            "grid_auto_flow": null,
            "grid_auto_rows": null,
            "grid_column": null,
            "grid_gap": null,
            "grid_row": null,
            "grid_template_areas": null,
            "grid_template_columns": null,
            "grid_template_rows": null,
            "height": null,
            "justify_content": null,
            "justify_items": null,
            "left": null,
            "margin": null,
            "max_height": null,
            "max_width": null,
            "min_height": null,
            "min_width": null,
            "object_fit": null,
            "object_position": null,
            "order": null,
            "overflow": null,
            "overflow_x": null,
            "overflow_y": null,
            "padding": null,
            "right": null,
            "top": null,
            "visibility": null,
            "width": null
          }
        },
        "e081f2a949a6444295e174ca31ae023e": {
          "model_module": "@jupyter-widgets/base",
          "model_name": "LayoutModel",
          "model_module_version": "1.2.0",
          "state": {
            "_model_module": "@jupyter-widgets/base",
            "_model_module_version": "1.2.0",
            "_model_name": "LayoutModel",
            "_view_count": null,
            "_view_module": "@jupyter-widgets/base",
            "_view_module_version": "1.2.0",
            "_view_name": "LayoutView",
            "align_content": null,
            "align_items": null,
            "align_self": null,
            "border": null,
            "bottom": null,
            "display": null,
            "flex": null,
            "flex_flow": null,
            "grid_area": null,
            "grid_auto_columns": null,
            "grid_auto_flow": null,
            "grid_auto_rows": null,
            "grid_column": null,
            "grid_gap": null,
            "grid_row": null,
            "grid_template_areas": null,
            "grid_template_columns": null,
            "grid_template_rows": null,
            "height": null,
            "justify_content": null,
            "justify_items": null,
            "left": null,
            "margin": null,
            "max_height": null,
            "max_width": null,
            "min_height": null,
            "min_width": null,
            "object_fit": null,
            "object_position": null,
            "order": null,
            "overflow": null,
            "overflow_x": null,
            "overflow_y": null,
            "padding": null,
            "right": null,
            "top": null,
            "visibility": null,
            "width": null
          }
        },
        "f489cac8238a453a904c21aa6b0ab398": {
          "model_module": "@jupyter-widgets/controls",
          "model_name": "DescriptionStyleModel",
          "model_module_version": "1.5.0",
          "state": {
            "_model_module": "@jupyter-widgets/controls",
            "_model_module_version": "1.5.0",
            "_model_name": "DescriptionStyleModel",
            "_view_count": null,
            "_view_module": "@jupyter-widgets/base",
            "_view_module_version": "1.2.0",
            "_view_name": "StyleView",
            "description_width": ""
          }
        },
        "8e6f39928e1d421d84452d2fe37ebfc3": {
          "model_module": "@jupyter-widgets/base",
          "model_name": "LayoutModel",
          "model_module_version": "1.2.0",
          "state": {
            "_model_module": "@jupyter-widgets/base",
            "_model_module_version": "1.2.0",
            "_model_name": "LayoutModel",
            "_view_count": null,
            "_view_module": "@jupyter-widgets/base",
            "_view_module_version": "1.2.0",
            "_view_name": "LayoutView",
            "align_content": null,
            "align_items": null,
            "align_self": null,
            "border": null,
            "bottom": null,
            "display": null,
            "flex": null,
            "flex_flow": null,
            "grid_area": null,
            "grid_auto_columns": null,
            "grid_auto_flow": null,
            "grid_auto_rows": null,
            "grid_column": null,
            "grid_gap": null,
            "grid_row": null,
            "grid_template_areas": null,
            "grid_template_columns": null,
            "grid_template_rows": null,
            "height": null,
            "justify_content": null,
            "justify_items": null,
            "left": null,
            "margin": null,
            "max_height": null,
            "max_width": null,
            "min_height": null,
            "min_width": null,
            "object_fit": null,
            "object_position": null,
            "order": null,
            "overflow": null,
            "overflow_x": null,
            "overflow_y": null,
            "padding": null,
            "right": null,
            "top": null,
            "visibility": null,
            "width": null
          }
        },
        "f94b7479f77647d1b0540b8296e755db": {
          "model_module": "@jupyter-widgets/controls",
          "model_name": "ProgressStyleModel",
          "model_module_version": "1.5.0",
          "state": {
            "_model_module": "@jupyter-widgets/controls",
            "_model_module_version": "1.5.0",
            "_model_name": "ProgressStyleModel",
            "_view_count": null,
            "_view_module": "@jupyter-widgets/base",
            "_view_module_version": "1.2.0",
            "_view_name": "StyleView",
            "bar_color": null,
            "description_width": ""
          }
        },
        "5cb0d7f3cf3f4ac28c85a2d2a71ea72c": {
          "model_module": "@jupyter-widgets/base",
          "model_name": "LayoutModel",
          "model_module_version": "1.2.0",
          "state": {
            "_model_module": "@jupyter-widgets/base",
            "_model_module_version": "1.2.0",
            "_model_name": "LayoutModel",
            "_view_count": null,
            "_view_module": "@jupyter-widgets/base",
            "_view_module_version": "1.2.0",
            "_view_name": "LayoutView",
            "align_content": null,
            "align_items": null,
            "align_self": null,
            "border": null,
            "bottom": null,
            "display": null,
            "flex": null,
            "flex_flow": null,
            "grid_area": null,
            "grid_auto_columns": null,
            "grid_auto_flow": null,
            "grid_auto_rows": null,
            "grid_column": null,
            "grid_gap": null,
            "grid_row": null,
            "grid_template_areas": null,
            "grid_template_columns": null,
            "grid_template_rows": null,
            "height": null,
            "justify_content": null,
            "justify_items": null,
            "left": null,
            "margin": null,
            "max_height": null,
            "max_width": null,
            "min_height": null,
            "min_width": null,
            "object_fit": null,
            "object_position": null,
            "order": null,
            "overflow": null,
            "overflow_x": null,
            "overflow_y": null,
            "padding": null,
            "right": null,
            "top": null,
            "visibility": null,
            "width": null
          }
        },
        "f2072554420b40f38e15329476430e32": {
          "model_module": "@jupyter-widgets/controls",
          "model_name": "DescriptionStyleModel",
          "model_module_version": "1.5.0",
          "state": {
            "_model_module": "@jupyter-widgets/controls",
            "_model_module_version": "1.5.0",
            "_model_name": "DescriptionStyleModel",
            "_view_count": null,
            "_view_module": "@jupyter-widgets/base",
            "_view_module_version": "1.2.0",
            "_view_name": "StyleView",
            "description_width": ""
          }
        },
        "c7a81363f678496ba9be5401eeaa60af": {
          "model_module": "@jupyter-widgets/controls",
          "model_name": "HBoxModel",
          "model_module_version": "1.5.0",
          "state": {
            "_dom_classes": [],
            "_model_module": "@jupyter-widgets/controls",
            "_model_module_version": "1.5.0",
            "_model_name": "HBoxModel",
            "_view_count": null,
            "_view_module": "@jupyter-widgets/controls",
            "_view_module_version": "1.5.0",
            "_view_name": "HBoxView",
            "box_style": "",
            "children": [
              "IPY_MODEL_96b7fd09bab84ff2b3700cd2ece420af",
              "IPY_MODEL_f0c452a410ef422eb7cb9f899ad8f62c",
              "IPY_MODEL_f7c0ea7d33214824bb962b564cd78a41"
            ],
            "layout": "IPY_MODEL_fa5965509fde42859ac6ab463e65f754"
          }
        },
        "96b7fd09bab84ff2b3700cd2ece420af": {
          "model_module": "@jupyter-widgets/controls",
          "model_name": "HTMLModel",
          "model_module_version": "1.5.0",
          "state": {
            "_dom_classes": [],
            "_model_module": "@jupyter-widgets/controls",
            "_model_module_version": "1.5.0",
            "_model_name": "HTMLModel",
            "_view_count": null,
            "_view_module": "@jupyter-widgets/controls",
            "_view_module_version": "1.5.0",
            "_view_name": "HTMLView",
            "description": "",
            "description_tooltip": null,
            "layout": "IPY_MODEL_362761b032bb46be922ebaf50569b507",
            "placeholder": "​",
            "style": "IPY_MODEL_586af7eabecd49f2aca21acacd031ee0",
            "value": "100%"
          }
        },
        "f0c452a410ef422eb7cb9f899ad8f62c": {
          "model_module": "@jupyter-widgets/controls",
          "model_name": "FloatProgressModel",
          "model_module_version": "1.5.0",
          "state": {
            "_dom_classes": [],
            "_model_module": "@jupyter-widgets/controls",
            "_model_module_version": "1.5.0",
            "_model_name": "FloatProgressModel",
            "_view_count": null,
            "_view_module": "@jupyter-widgets/controls",
            "_view_module_version": "1.5.0",
            "_view_name": "ProgressView",
            "bar_style": "success",
            "description": "",
            "description_tooltip": null,
            "layout": "IPY_MODEL_1340e19835454e9da8bb88eaeb4b3b1d",
            "max": 4422102,
            "min": 0,
            "orientation": "horizontal",
            "style": "IPY_MODEL_84572e8c68fa4dc4970d63b2fe5f2cd4",
            "value": 4422102
          }
        },
        "f7c0ea7d33214824bb962b564cd78a41": {
          "model_module": "@jupyter-widgets/controls",
          "model_name": "HTMLModel",
          "model_module_version": "1.5.0",
          "state": {
            "_dom_classes": [],
            "_model_module": "@jupyter-widgets/controls",
            "_model_module_version": "1.5.0",
            "_model_name": "HTMLModel",
            "_view_count": null,
            "_view_module": "@jupyter-widgets/controls",
            "_view_module_version": "1.5.0",
            "_view_name": "HTMLView",
            "description": "",
            "description_tooltip": null,
            "layout": "IPY_MODEL_fdf7aa11c8d64d479adafb453e5ec7a6",
            "placeholder": "​",
            "style": "IPY_MODEL_7ee7226392834acbaa14d668c85135c3",
            "value": " 4422102/4422102 [00:00&lt;00:00, 61923099.11it/s]"
          }
        },
        "fa5965509fde42859ac6ab463e65f754": {
          "model_module": "@jupyter-widgets/base",
          "model_name": "LayoutModel",
          "model_module_version": "1.2.0",
          "state": {
            "_model_module": "@jupyter-widgets/base",
            "_model_module_version": "1.2.0",
            "_model_name": "LayoutModel",
            "_view_count": null,
            "_view_module": "@jupyter-widgets/base",
            "_view_module_version": "1.2.0",
            "_view_name": "LayoutView",
            "align_content": null,
            "align_items": null,
            "align_self": null,
            "border": null,
            "bottom": null,
            "display": null,
            "flex": null,
            "flex_flow": null,
            "grid_area": null,
            "grid_auto_columns": null,
            "grid_auto_flow": null,
            "grid_auto_rows": null,
            "grid_column": null,
            "grid_gap": null,
            "grid_row": null,
            "grid_template_areas": null,
            "grid_template_columns": null,
            "grid_template_rows": null,
            "height": null,
            "justify_content": null,
            "justify_items": null,
            "left": null,
            "margin": null,
            "max_height": null,
            "max_width": null,
            "min_height": null,
            "min_width": null,
            "object_fit": null,
            "object_position": null,
            "order": null,
            "overflow": null,
            "overflow_x": null,
            "overflow_y": null,
            "padding": null,
            "right": null,
            "top": null,
            "visibility": null,
            "width": null
          }
        },
        "362761b032bb46be922ebaf50569b507": {
          "model_module": "@jupyter-widgets/base",
          "model_name": "LayoutModel",
          "model_module_version": "1.2.0",
          "state": {
            "_model_module": "@jupyter-widgets/base",
            "_model_module_version": "1.2.0",
            "_model_name": "LayoutModel",
            "_view_count": null,
            "_view_module": "@jupyter-widgets/base",
            "_view_module_version": "1.2.0",
            "_view_name": "LayoutView",
            "align_content": null,
            "align_items": null,
            "align_self": null,
            "border": null,
            "bottom": null,
            "display": null,
            "flex": null,
            "flex_flow": null,
            "grid_area": null,
            "grid_auto_columns": null,
            "grid_auto_flow": null,
            "grid_auto_rows": null,
            "grid_column": null,
            "grid_gap": null,
            "grid_row": null,
            "grid_template_areas": null,
            "grid_template_columns": null,
            "grid_template_rows": null,
            "height": null,
            "justify_content": null,
            "justify_items": null,
            "left": null,
            "margin": null,
            "max_height": null,
            "max_width": null,
            "min_height": null,
            "min_width": null,
            "object_fit": null,
            "object_position": null,
            "order": null,
            "overflow": null,
            "overflow_x": null,
            "overflow_y": null,
            "padding": null,
            "right": null,
            "top": null,
            "visibility": null,
            "width": null
          }
        },
        "586af7eabecd49f2aca21acacd031ee0": {
          "model_module": "@jupyter-widgets/controls",
          "model_name": "DescriptionStyleModel",
          "model_module_version": "1.5.0",
          "state": {
            "_model_module": "@jupyter-widgets/controls",
            "_model_module_version": "1.5.0",
            "_model_name": "DescriptionStyleModel",
            "_view_count": null,
            "_view_module": "@jupyter-widgets/base",
            "_view_module_version": "1.2.0",
            "_view_name": "StyleView",
            "description_width": ""
          }
        },
        "1340e19835454e9da8bb88eaeb4b3b1d": {
          "model_module": "@jupyter-widgets/base",
          "model_name": "LayoutModel",
          "model_module_version": "1.2.0",
          "state": {
            "_model_module": "@jupyter-widgets/base",
            "_model_module_version": "1.2.0",
            "_model_name": "LayoutModel",
            "_view_count": null,
            "_view_module": "@jupyter-widgets/base",
            "_view_module_version": "1.2.0",
            "_view_name": "LayoutView",
            "align_content": null,
            "align_items": null,
            "align_self": null,
            "border": null,
            "bottom": null,
            "display": null,
            "flex": null,
            "flex_flow": null,
            "grid_area": null,
            "grid_auto_columns": null,
            "grid_auto_flow": null,
            "grid_auto_rows": null,
            "grid_column": null,
            "grid_gap": null,
            "grid_row": null,
            "grid_template_areas": null,
            "grid_template_columns": null,
            "grid_template_rows": null,
            "height": null,
            "justify_content": null,
            "justify_items": null,
            "left": null,
            "margin": null,
            "max_height": null,
            "max_width": null,
            "min_height": null,
            "min_width": null,
            "object_fit": null,
            "object_position": null,
            "order": null,
            "overflow": null,
            "overflow_x": null,
            "overflow_y": null,
            "padding": null,
            "right": null,
            "top": null,
            "visibility": null,
            "width": null
          }
        },
        "84572e8c68fa4dc4970d63b2fe5f2cd4": {
          "model_module": "@jupyter-widgets/controls",
          "model_name": "ProgressStyleModel",
          "model_module_version": "1.5.0",
          "state": {
            "_model_module": "@jupyter-widgets/controls",
            "_model_module_version": "1.5.0",
            "_model_name": "ProgressStyleModel",
            "_view_count": null,
            "_view_module": "@jupyter-widgets/base",
            "_view_module_version": "1.2.0",
            "_view_name": "StyleView",
            "bar_color": null,
            "description_width": ""
          }
        },
        "fdf7aa11c8d64d479adafb453e5ec7a6": {
          "model_module": "@jupyter-widgets/base",
          "model_name": "LayoutModel",
          "model_module_version": "1.2.0",
          "state": {
            "_model_module": "@jupyter-widgets/base",
            "_model_module_version": "1.2.0",
            "_model_name": "LayoutModel",
            "_view_count": null,
            "_view_module": "@jupyter-widgets/base",
            "_view_module_version": "1.2.0",
            "_view_name": "LayoutView",
            "align_content": null,
            "align_items": null,
            "align_self": null,
            "border": null,
            "bottom": null,
            "display": null,
            "flex": null,
            "flex_flow": null,
            "grid_area": null,
            "grid_auto_columns": null,
            "grid_auto_flow": null,
            "grid_auto_rows": null,
            "grid_column": null,
            "grid_gap": null,
            "grid_row": null,
            "grid_template_areas": null,
            "grid_template_columns": null,
            "grid_template_rows": null,
            "height": null,
            "justify_content": null,
            "justify_items": null,
            "left": null,
            "margin": null,
            "max_height": null,
            "max_width": null,
            "min_height": null,
            "min_width": null,
            "object_fit": null,
            "object_position": null,
            "order": null,
            "overflow": null,
            "overflow_x": null,
            "overflow_y": null,
            "padding": null,
            "right": null,
            "top": null,
            "visibility": null,
            "width": null
          }
        },
        "7ee7226392834acbaa14d668c85135c3": {
          "model_module": "@jupyter-widgets/controls",
          "model_name": "DescriptionStyleModel",
          "model_module_version": "1.5.0",
          "state": {
            "_model_module": "@jupyter-widgets/controls",
            "_model_module_version": "1.5.0",
            "_model_name": "DescriptionStyleModel",
            "_view_count": null,
            "_view_module": "@jupyter-widgets/base",
            "_view_module_version": "1.2.0",
            "_view_name": "StyleView",
            "description_width": ""
          }
        },
        "d684baa454c34724921fb76986fb9150": {
          "model_module": "@jupyter-widgets/controls",
          "model_name": "HBoxModel",
          "model_module_version": "1.5.0",
          "state": {
            "_dom_classes": [],
            "_model_module": "@jupyter-widgets/controls",
            "_model_module_version": "1.5.0",
            "_model_name": "HBoxModel",
            "_view_count": null,
            "_view_module": "@jupyter-widgets/controls",
            "_view_module_version": "1.5.0",
            "_view_name": "HBoxView",
            "box_style": "",
            "children": [
              "IPY_MODEL_12d229cd810a40de9112137a84e6cedb",
              "IPY_MODEL_809c03996c2a4fd29d50964e8e761178",
              "IPY_MODEL_3d9624b4489e404fb720d24bace9cdd7"
            ],
            "layout": "IPY_MODEL_17698d4a7d2a45a0b924bda2aeff9701"
          }
        },
        "12d229cd810a40de9112137a84e6cedb": {
          "model_module": "@jupyter-widgets/controls",
          "model_name": "HTMLModel",
          "model_module_version": "1.5.0",
          "state": {
            "_dom_classes": [],
            "_model_module": "@jupyter-widgets/controls",
            "_model_module_version": "1.5.0",
            "_model_name": "HTMLModel",
            "_view_count": null,
            "_view_module": "@jupyter-widgets/controls",
            "_view_module_version": "1.5.0",
            "_view_name": "HTMLView",
            "description": "",
            "description_tooltip": null,
            "layout": "IPY_MODEL_bce7d7e0057149bc954be44c5152698c",
            "placeholder": "​",
            "style": "IPY_MODEL_247b2c0ff63b4f008ab4ff8b4800b6de",
            "value": "100%"
          }
        },
        "809c03996c2a4fd29d50964e8e761178": {
          "model_module": "@jupyter-widgets/controls",
          "model_name": "FloatProgressModel",
          "model_module_version": "1.5.0",
          "state": {
            "_dom_classes": [],
            "_model_module": "@jupyter-widgets/controls",
            "_model_module_version": "1.5.0",
            "_model_name": "FloatProgressModel",
            "_view_count": null,
            "_view_module": "@jupyter-widgets/controls",
            "_view_module_version": "1.5.0",
            "_view_name": "ProgressView",
            "bar_style": "success",
            "description": "",
            "description_tooltip": null,
            "layout": "IPY_MODEL_ad570342a6444590954f520ea9058d18",
            "max": 5148,
            "min": 0,
            "orientation": "horizontal",
            "style": "IPY_MODEL_32936f6e8c534f9ab8d8a30dc28637a9",
            "value": 5148
          }
        },
        "3d9624b4489e404fb720d24bace9cdd7": {
          "model_module": "@jupyter-widgets/controls",
          "model_name": "HTMLModel",
          "model_module_version": "1.5.0",
          "state": {
            "_dom_classes": [],
            "_model_module": "@jupyter-widgets/controls",
            "_model_module_version": "1.5.0",
            "_model_name": "HTMLModel",
            "_view_count": null,
            "_view_module": "@jupyter-widgets/controls",
            "_view_module_version": "1.5.0",
            "_view_name": "HTMLView",
            "description": "",
            "description_tooltip": null,
            "layout": "IPY_MODEL_45c4a56b7ad1420c8be6867ade95f429",
            "placeholder": "​",
            "style": "IPY_MODEL_3b9f99c5b93043f79af782b7465966dc",
            "value": " 5148/5148 [00:00&lt;00:00, 204363.95it/s]"
          }
        },
        "17698d4a7d2a45a0b924bda2aeff9701": {
          "model_module": "@jupyter-widgets/base",
          "model_name": "LayoutModel",
          "model_module_version": "1.2.0",
          "state": {
            "_model_module": "@jupyter-widgets/base",
            "_model_module_version": "1.2.0",
            "_model_name": "LayoutModel",
            "_view_count": null,
            "_view_module": "@jupyter-widgets/base",
            "_view_module_version": "1.2.0",
            "_view_name": "LayoutView",
            "align_content": null,
            "align_items": null,
            "align_self": null,
            "border": null,
            "bottom": null,
            "display": null,
            "flex": null,
            "flex_flow": null,
            "grid_area": null,
            "grid_auto_columns": null,
            "grid_auto_flow": null,
            "grid_auto_rows": null,
            "grid_column": null,
            "grid_gap": null,
            "grid_row": null,
            "grid_template_areas": null,
            "grid_template_columns": null,
            "grid_template_rows": null,
            "height": null,
            "justify_content": null,
            "justify_items": null,
            "left": null,
            "margin": null,
            "max_height": null,
            "max_width": null,
            "min_height": null,
            "min_width": null,
            "object_fit": null,
            "object_position": null,
            "order": null,
            "overflow": null,
            "overflow_x": null,
            "overflow_y": null,
            "padding": null,
            "right": null,
            "top": null,
            "visibility": null,
            "width": null
          }
        },
        "bce7d7e0057149bc954be44c5152698c": {
          "model_module": "@jupyter-widgets/base",
          "model_name": "LayoutModel",
          "model_module_version": "1.2.0",
          "state": {
            "_model_module": "@jupyter-widgets/base",
            "_model_module_version": "1.2.0",
            "_model_name": "LayoutModel",
            "_view_count": null,
            "_view_module": "@jupyter-widgets/base",
            "_view_module_version": "1.2.0",
            "_view_name": "LayoutView",
            "align_content": null,
            "align_items": null,
            "align_self": null,
            "border": null,
            "bottom": null,
            "display": null,
            "flex": null,
            "flex_flow": null,
            "grid_area": null,
            "grid_auto_columns": null,
            "grid_auto_flow": null,
            "grid_auto_rows": null,
            "grid_column": null,
            "grid_gap": null,
            "grid_row": null,
            "grid_template_areas": null,
            "grid_template_columns": null,
            "grid_template_rows": null,
            "height": null,
            "justify_content": null,
            "justify_items": null,
            "left": null,
            "margin": null,
            "max_height": null,
            "max_width": null,
            "min_height": null,
            "min_width": null,
            "object_fit": null,
            "object_position": null,
            "order": null,
            "overflow": null,
            "overflow_x": null,
            "overflow_y": null,
            "padding": null,
            "right": null,
            "top": null,
            "visibility": null,
            "width": null
          }
        },
        "247b2c0ff63b4f008ab4ff8b4800b6de": {
          "model_module": "@jupyter-widgets/controls",
          "model_name": "DescriptionStyleModel",
          "model_module_version": "1.5.0",
          "state": {
            "_model_module": "@jupyter-widgets/controls",
            "_model_module_version": "1.5.0",
            "_model_name": "DescriptionStyleModel",
            "_view_count": null,
            "_view_module": "@jupyter-widgets/base",
            "_view_module_version": "1.2.0",
            "_view_name": "StyleView",
            "description_width": ""
          }
        },
        "ad570342a6444590954f520ea9058d18": {
          "model_module": "@jupyter-widgets/base",
          "model_name": "LayoutModel",
          "model_module_version": "1.2.0",
          "state": {
            "_model_module": "@jupyter-widgets/base",
            "_model_module_version": "1.2.0",
            "_model_name": "LayoutModel",
            "_view_count": null,
            "_view_module": "@jupyter-widgets/base",
            "_view_module_version": "1.2.0",
            "_view_name": "LayoutView",
            "align_content": null,
            "align_items": null,
            "align_self": null,
            "border": null,
            "bottom": null,
            "display": null,
            "flex": null,
            "flex_flow": null,
            "grid_area": null,
            "grid_auto_columns": null,
            "grid_auto_flow": null,
            "grid_auto_rows": null,
            "grid_column": null,
            "grid_gap": null,
            "grid_row": null,
            "grid_template_areas": null,
            "grid_template_columns": null,
            "grid_template_rows": null,
            "height": null,
            "justify_content": null,
            "justify_items": null,
            "left": null,
            "margin": null,
            "max_height": null,
            "max_width": null,
            "min_height": null,
            "min_width": null,
            "object_fit": null,
            "object_position": null,
            "order": null,
            "overflow": null,
            "overflow_x": null,
            "overflow_y": null,
            "padding": null,
            "right": null,
            "top": null,
            "visibility": null,
            "width": null
          }
        },
        "32936f6e8c534f9ab8d8a30dc28637a9": {
          "model_module": "@jupyter-widgets/controls",
          "model_name": "ProgressStyleModel",
          "model_module_version": "1.5.0",
          "state": {
            "_model_module": "@jupyter-widgets/controls",
            "_model_module_version": "1.5.0",
            "_model_name": "ProgressStyleModel",
            "_view_count": null,
            "_view_module": "@jupyter-widgets/base",
            "_view_module_version": "1.2.0",
            "_view_name": "StyleView",
            "bar_color": null,
            "description_width": ""
          }
        },
        "45c4a56b7ad1420c8be6867ade95f429": {
          "model_module": "@jupyter-widgets/base",
          "model_name": "LayoutModel",
          "model_module_version": "1.2.0",
          "state": {
            "_model_module": "@jupyter-widgets/base",
            "_model_module_version": "1.2.0",
            "_model_name": "LayoutModel",
            "_view_count": null,
            "_view_module": "@jupyter-widgets/base",
            "_view_module_version": "1.2.0",
            "_view_name": "LayoutView",
            "align_content": null,
            "align_items": null,
            "align_self": null,
            "border": null,
            "bottom": null,
            "display": null,
            "flex": null,
            "flex_flow": null,
            "grid_area": null,
            "grid_auto_columns": null,
            "grid_auto_flow": null,
            "grid_auto_rows": null,
            "grid_column": null,
            "grid_gap": null,
            "grid_row": null,
            "grid_template_areas": null,
            "grid_template_columns": null,
            "grid_template_rows": null,
            "height": null,
            "justify_content": null,
            "justify_items": null,
            "left": null,
            "margin": null,
            "max_height": null,
            "max_width": null,
            "min_height": null,
            "min_width": null,
            "object_fit": null,
            "object_position": null,
            "order": null,
            "overflow": null,
            "overflow_x": null,
            "overflow_y": null,
            "padding": null,
            "right": null,
            "top": null,
            "visibility": null,
            "width": null
          }
        },
        "3b9f99c5b93043f79af782b7465966dc": {
          "model_module": "@jupyter-widgets/controls",
          "model_name": "DescriptionStyleModel",
          "model_module_version": "1.5.0",
          "state": {
            "_model_module": "@jupyter-widgets/controls",
            "_model_module_version": "1.5.0",
            "_model_name": "DescriptionStyleModel",
            "_view_count": null,
            "_view_module": "@jupyter-widgets/base",
            "_view_module_version": "1.2.0",
            "_view_name": "StyleView",
            "description_width": ""
          }
        }
      }
    }
  },
  "cells": [
    {
      "cell_type": "code",
      "execution_count": 56,
      "metadata": {
        "id": "L_rXAxwGs9pO"
      },
      "outputs": [],
      "source": [
        "import torch\n",
        "from torch import nn \n",
        "from torch.utils.data import DataLoader\n",
        "from torchvision import datasets \n",
        "from torchvision.transforms import ToTensor"
      ]
    },
    {
      "cell_type": "code",
      "source": [
        "training_data = datasets.FashionMNIST(\n",
        "    root='data', train=True, download=True, transform=ToTensor()\n",
        ")\n",
        "testing_data = datasets.FashionMNIST(\n",
        "    root=\"data\", train=False, download=True, transform=ToTensor()\n",
        ")"
      ],
      "metadata": {
        "colab": {
          "base_uri": "https://localhost:8080/",
          "height": 408,
          "referenced_widgets": [
            "941c69dbb3294c4a95fa6bb13b969ea0",
            "b176b3c1ac364e8dbf7322b52b4a4c37",
            "0ada24c9a32a49499616cebf2a03f9c3",
            "ca2acada23164f97805a4d0057e34145",
            "1638f734d65644ab843d6da689c205cb",
            "4b391fe85a9e4f3c984acbb2247a2492",
            "5dec07ea4b9c45f085e59feb1d0e85a3",
            "15deb32589294242bbc73405a1457f9f",
            "c8b488f807954766b759c08591c1d344",
            "80e9a6a5c1474d66880ea88f146f30c7",
            "3db81a34e247473f83629359f9d7ee73",
            "43f8db375dbd4b1b8121fb04b422a9e8",
            "bded0fdad7d64c548b03bcd6391e3059",
            "6761b792ccd2481485af6de3ea1a5e70",
            "8ee3d33329eb43eda322727977048d64",
            "8fb6cb35009a4d6188e4aaad9889d3b0",
            "e081f2a949a6444295e174ca31ae023e",
            "f489cac8238a453a904c21aa6b0ab398",
            "8e6f39928e1d421d84452d2fe37ebfc3",
            "f94b7479f77647d1b0540b8296e755db",
            "5cb0d7f3cf3f4ac28c85a2d2a71ea72c",
            "f2072554420b40f38e15329476430e32",
            "c7a81363f678496ba9be5401eeaa60af",
            "96b7fd09bab84ff2b3700cd2ece420af",
            "f0c452a410ef422eb7cb9f899ad8f62c",
            "f7c0ea7d33214824bb962b564cd78a41",
            "fa5965509fde42859ac6ab463e65f754",
            "362761b032bb46be922ebaf50569b507",
            "586af7eabecd49f2aca21acacd031ee0",
            "1340e19835454e9da8bb88eaeb4b3b1d",
            "84572e8c68fa4dc4970d63b2fe5f2cd4",
            "fdf7aa11c8d64d479adafb453e5ec7a6",
            "7ee7226392834acbaa14d668c85135c3",
            "d684baa454c34724921fb76986fb9150",
            "12d229cd810a40de9112137a84e6cedb",
            "809c03996c2a4fd29d50964e8e761178",
            "3d9624b4489e404fb720d24bace9cdd7",
            "17698d4a7d2a45a0b924bda2aeff9701",
            "bce7d7e0057149bc954be44c5152698c",
            "247b2c0ff63b4f008ab4ff8b4800b6de",
            "ad570342a6444590954f520ea9058d18",
            "32936f6e8c534f9ab8d8a30dc28637a9",
            "45c4a56b7ad1420c8be6867ade95f429",
            "3b9f99c5b93043f79af782b7465966dc"
          ]
        },
        "id": "ExoBeylS7z7J",
        "outputId": "760c50b8-1164-4b4d-87ae-fba8aabe00f0"
      },
      "execution_count": 57,
      "outputs": [
        {
          "output_type": "stream",
          "name": "stdout",
          "text": [
            "Downloading http://fashion-mnist.s3-website.eu-central-1.amazonaws.com/train-images-idx3-ubyte.gz\n",
            "Downloading http://fashion-mnist.s3-website.eu-central-1.amazonaws.com/train-images-idx3-ubyte.gz to data/FashionMNIST/raw/train-images-idx3-ubyte.gz\n"
          ]
        },
        {
          "output_type": "display_data",
          "data": {
            "text/plain": [
              "  0%|          | 0/26421880 [00:00<?, ?it/s]"
            ],
            "application/vnd.jupyter.widget-view+json": {
              "version_major": 2,
              "version_minor": 0,
              "model_id": "941c69dbb3294c4a95fa6bb13b969ea0"
            }
          },
          "metadata": {}
        },
        {
          "output_type": "stream",
          "name": "stdout",
          "text": [
            "Extracting data/FashionMNIST/raw/train-images-idx3-ubyte.gz to data/FashionMNIST/raw\n",
            "\n",
            "Downloading http://fashion-mnist.s3-website.eu-central-1.amazonaws.com/train-labels-idx1-ubyte.gz\n",
            "Downloading http://fashion-mnist.s3-website.eu-central-1.amazonaws.com/train-labels-idx1-ubyte.gz to data/FashionMNIST/raw/train-labels-idx1-ubyte.gz\n"
          ]
        },
        {
          "output_type": "display_data",
          "data": {
            "text/plain": [
              "  0%|          | 0/29515 [00:00<?, ?it/s]"
            ],
            "application/vnd.jupyter.widget-view+json": {
              "version_major": 2,
              "version_minor": 0,
              "model_id": "43f8db375dbd4b1b8121fb04b422a9e8"
            }
          },
          "metadata": {}
        },
        {
          "output_type": "stream",
          "name": "stdout",
          "text": [
            "Extracting data/FashionMNIST/raw/train-labels-idx1-ubyte.gz to data/FashionMNIST/raw\n",
            "\n",
            "Downloading http://fashion-mnist.s3-website.eu-central-1.amazonaws.com/t10k-images-idx3-ubyte.gz\n",
            "Downloading http://fashion-mnist.s3-website.eu-central-1.amazonaws.com/t10k-images-idx3-ubyte.gz to data/FashionMNIST/raw/t10k-images-idx3-ubyte.gz\n"
          ]
        },
        {
          "output_type": "display_data",
          "data": {
            "text/plain": [
              "  0%|          | 0/4422102 [00:00<?, ?it/s]"
            ],
            "application/vnd.jupyter.widget-view+json": {
              "version_major": 2,
              "version_minor": 0,
              "model_id": "c7a81363f678496ba9be5401eeaa60af"
            }
          },
          "metadata": {}
        },
        {
          "output_type": "stream",
          "name": "stdout",
          "text": [
            "Extracting data/FashionMNIST/raw/t10k-images-idx3-ubyte.gz to data/FashionMNIST/raw\n",
            "\n",
            "Downloading http://fashion-mnist.s3-website.eu-central-1.amazonaws.com/t10k-labels-idx1-ubyte.gz\n",
            "Downloading http://fashion-mnist.s3-website.eu-central-1.amazonaws.com/t10k-labels-idx1-ubyte.gz to data/FashionMNIST/raw/t10k-labels-idx1-ubyte.gz\n"
          ]
        },
        {
          "output_type": "display_data",
          "data": {
            "text/plain": [
              "  0%|          | 0/5148 [00:00<?, ?it/s]"
            ],
            "application/vnd.jupyter.widget-view+json": {
              "version_major": 2,
              "version_minor": 0,
              "model_id": "d684baa454c34724921fb76986fb9150"
            }
          },
          "metadata": {}
        },
        {
          "output_type": "stream",
          "name": "stdout",
          "text": [
            "Extracting data/FashionMNIST/raw/t10k-labels-idx1-ubyte.gz to data/FashionMNIST/raw\n",
            "\n"
          ]
        }
      ]
    },
    {
      "cell_type": "code",
      "source": [
        "train_dl= DataLoader(training_data, batch_size=54)\n",
        "test_dl = DataLoader(testing_data, batch_size=54)"
      ],
      "metadata": {
        "id": "7Dd6F8Vu8Raw"
      },
      "execution_count": 58,
      "outputs": []
    },
    {
      "cell_type": "code",
      "source": [
        "for X, y in test_dl:\n",
        "    print(f\"Shape of X [N, C, H, W]: {X.shape}\")\n",
        "    print(f\"Shape of y: {y.shape} {y.dtype}\")\n",
        "    break"
      ],
      "metadata": {
        "colab": {
          "base_uri": "https://localhost:8080/"
        },
        "id": "49XxBIu38l3y",
        "outputId": "1a07f761-3014-4c58-a684-6ef74b83717f"
      },
      "execution_count": 59,
      "outputs": [
        {
          "output_type": "stream",
          "name": "stdout",
          "text": [
            "Shape of X [N, C, H, W]: torch.Size([54, 1, 28, 28])\n",
            "Shape of y: torch.Size([54]) torch.int64\n"
          ]
        }
      ]
    },
    {
      "cell_type": "code",
      "source": [
        "import matplotlib.pyplot as plt\n",
        "labels_map = {\n",
        "    0: \"T-Shirt\",\n",
        "    1: \"Trouser\",\n",
        "    2: \"Pullover\",\n",
        "    3: \"Dress\",\n",
        "    4: \"Coat\",\n",
        "    5: \"Sandal\",\n",
        "    6: \"Shirt\",\n",
        "    7: \"Sneaker\",\n",
        "    8: \"Bag\",\n",
        "    9: \"Ankle Boot\",\n",
        "}\n",
        "figure = plt.figure(figsize=(8, 8))\n",
        "cols, rows = 3, 3\n",
        "for i in range(1, cols * rows + 1):\n",
        "    sample_idx = torch.randint(len(training_data), size=(1,)).item()\n",
        "    img, label = training_data[sample_idx]\n",
        "    figure.add_subplot(rows, cols, i)\n",
        "    plt.title(labels_map[label])\n",
        "    plt.axis(\"off\")\n",
        "    plt.imshow(img.squeeze(), cmap=\"gray\")\n",
        "plt.show()"
      ],
      "metadata": {
        "colab": {
          "base_uri": "https://localhost:8080/",
          "height": 482
        },
        "id": "VQg5v3JO_Jw_",
        "outputId": "9419fb6b-b196-4cd9-fe06-c8660040757b"
      },
      "execution_count": 60,
      "outputs": [
        {
          "output_type": "display_data",
          "data": {
            "text/plain": [
              "<Figure size 576x576 with 9 Axes>"
            ],
            "image/png": "[encoded data removed]"
          },
          "metadata": {
            "needs_background": "light"
          }
        }
      ]
    },
    {
      "cell_type": "code",
      "source": [
        "# Get cpu or gpu device for training.\n",
        "device = \"cuda\" if torch.cuda.is_available() else \"mps\" if torch.backends.mps.is_available() else \"cpu\"\n",
        "print(f\"Using {device} device\")\n",
        "\n",
        "# Define model\n",
        "class NeuralNetwork(nn.Module):\n",
        "    def __init__(self):\n",
        "        super().__init__()\n",
        "        self.flatten = nn.Flatten()\n",
        "        self.linear_relu_stack = nn.Sequential(\n",
        "            nn.Linear(28*28, 512),\n",
        "            nn.ReLU(),\n",
        "            nn.Linear(512, 512),\n",
        "            nn.ReLU(),\n",
        "            nn.Linear(512, 10)\n",
        "        )\n",
        "\n",
        "    def forward(self, x):\n",
        "        x = self.flatten(x)\n",
        "        logits = self.linear_relu_stack(x)\n",
        "        return logits\n",
        "\n",
        "model = NeuralNetwork().to(device)\n",
        "print(model)"
      ],
      "metadata": {
        "colab": {
          "base_uri": "https://localhost:8080/"
        },
        "id": "jRgJ9IQ-Cnsa",
        "outputId": "fc03ba49-897c-4475-add4-a6b6d284d71b"
      },
      "execution_count": 61,
      "outputs": [
        {
          "output_type": "stream",
          "name": "stdout",
          "text": [
            "Using cuda device\n",
            "NeuralNetwork(\n",
            "  (flatten): Flatten(start_dim=1, end_dim=-1)\n",
            "  (linear_relu_stack): Sequential(\n",
            "    (0): Linear(in_features=784, out_features=512, bias=True)\n",
            "    (1): ReLU()\n",
            "    (2): Linear(in_features=512, out_features=512, bias=True)\n",
            "    (3): ReLU()\n",
            "    (4): Linear(in_features=512, out_features=10, bias=True)\n",
            "  )\n",
            ")\n"
          ]
        }
      ]
    },
    {
      "cell_type": "code",
      "source": [
        "loss_fn = nn.CrossEntropyLoss()\n",
        "optimizer = torch.optim.SGD(model.parameters(), lr=1e-3)"
      ],
      "metadata": {
        "id": "TkC0yLt7C2QE"
      },
      "execution_count": 62,
      "outputs": []
    },
    {
      "cell_type": "code",
      "source": [
        "def train(dataloader, model, loss_fn, optimizer):\n",
        "    size = len(dataloader.dataset)\n",
        "    model.train()\n",
        "    for batch, (X, y) in enumerate(dataloader):\n",
        "        X, y = X.to(device), y.to(device)\n",
        "\n",
        "        # Compute prediction error\n",
        "        pred = model(X)\n",
        "        loss = loss_fn(pred, y)\n",
        "\n",
        "        # Backpropagation\n",
        "        optimizer.zero_grad()\n",
        "        loss.backward()\n",
        "        optimizer.step()\n",
        "\n",
        "        if batch % 100 == 0:\n",
        "            loss, current = loss.item(), batch * len(X)\n",
        "            print(f\"loss: {loss:>7f}  [{current:>5d}/{size:>5d}]\")"
      ],
      "metadata": {
        "id": "6irAL9NIC7QL"
      },
      "execution_count": 63,
      "outputs": []
    },
    {
      "cell_type": "code",
      "source": [
        "def test(dataloader, model, loss_fn):\n",
        "    size = len(dataloader.dataset)\n",
        "    num_batches = len(dataloader)\n",
        "    model.eval()\n",
        "    test_loss, correct = 0, 0\n",
        "    with torch.no_grad():\n",
        "        for X, y in dataloader:\n",
        "            X, y = X.to(device), y.to(device)\n",
        "            pred = model(X)\n",
        "            test_loss += loss_fn(pred, y).item()\n",
        "            correct += (pred.argmax(1) == y).type(torch.float).sum().item()\n",
        "    test_loss /= num_batches\n",
        "    correct /= size\n",
        "    print(f\"Test Error: \\n Accuracy: {(100*correct):>0.1f}%, Avg loss: {test_loss:>8f} \\n\")"
      ],
      "metadata": {
        "id": "VP00ehBKC-5d"
      },
      "execution_count": 64,
      "outputs": []
    },
    {
      "cell_type": "code",
      "source": [
        "epochs = 50\n",
        "for t in range(epochs):\n",
        "    print(f\"Epoch {t+1}\\n-------------------------------\")\n",
        "    train(train_dl, model, loss_fn, optimizer)\n",
        "    test(test_dl, model, loss_fn)\n",
        "print(\"Done!\")"
      ],
      "metadata": {
        "colab": {
          "base_uri": "https://localhost:8080/"
        },
        "id": "BOS-cwZ7DCJi",
        "outputId": "fecf18df-7c34-4a5a-d4ef-b97ba74721e3"
      },
      "execution_count": 65,
      "outputs": [
        {
          "output_type": "stream",
          "name": "stdout",
          "text": [
            "Epoch 1\n",
            "-------------------------------\n",
            "loss: 2.302829  [    0/60000]\n",
            "loss: 2.286823  [ 5400/60000]\n",
            "loss: 2.261719  [10800/60000]\n",
            "loss: 2.256788  [16200/60000]\n",
            "loss: 2.226158  [21600/60000]\n",
            "loss: 2.228911  [27000/60000]\n",
            "loss: 2.229530  [32400/60000]\n",
            "loss: 2.184693  [37800/60000]\n",
            "loss: 2.179415  [43200/60000]\n",
            "loss: 2.184713  [48600/60000]\n",
            "loss: 2.135581  [54000/60000]\n",
            "loss: 2.100572  [59400/60000]\n",
            "Test Error: \n",
            " Accuracy: 45.6%, Avg loss: 2.115581 \n",
            "\n",
            "Epoch 2\n",
            "-------------------------------\n",
            "loss: 2.111768  [    0/60000]\n",
            "loss: 2.107103  [ 5400/60000]\n",
            "loss: 2.035954  [10800/60000]\n",
            "loss: 2.030518  [16200/60000]\n",
            "loss: 1.955340  [21600/60000]\n",
            "loss: 1.966478  [27000/60000]\n",
            "loss: 1.976099  [32400/60000]\n",
            "loss: 1.890997  [37800/60000]\n",
            "loss: 1.878446  [43200/60000]\n",
            "loss: 1.914117  [48600/60000]\n",
            "loss: 1.793263  [54000/60000]\n",
            "loss: 1.743330  [59400/60000]\n",
            "Test Error: \n",
            " Accuracy: 56.7%, Avg loss: 1.754413 \n",
            "\n",
            "Epoch 3\n",
            "-------------------------------\n",
            "loss: 1.758081  [    0/60000]\n",
            "loss: 1.749982  [ 5400/60000]\n",
            "loss: 1.630682  [10800/60000]\n",
            "loss: 1.603475  [16200/60000]\n",
            "loss: 1.527415  [21600/60000]\n",
            "loss: 1.513801  [27000/60000]\n",
            "loss: 1.562193  [32400/60000]\n",
            "loss: 1.485562  [37800/60000]\n",
            "loss: 1.483395  [43200/60000]\n",
            "loss: 1.573750  [48600/60000]\n",
            "loss: 1.403780  [54000/60000]\n",
            "loss: 1.360873  [59400/60000]\n",
            "Test Error: \n",
            " Accuracy: 62.4%, Avg loss: 1.371965 \n",
            "\n",
            "Epoch 4\n",
            "-------------------------------\n",
            "loss: 1.382105  [    0/60000]\n",
            "loss: 1.409091  [ 5400/60000]\n",
            "loss: 1.285518  [10800/60000]\n",
            "loss: 1.236855  [16200/60000]\n",
            "loss: 1.190336  [21600/60000]\n",
            "loss: 1.160037  [27000/60000]\n",
            "loss: 1.272822  [32400/60000]\n",
            "loss: 1.208488  [37800/60000]\n",
            "loss: 1.212491  [43200/60000]\n",
            "loss: 1.333460  [48600/60000]\n",
            "loss: 1.149849  [54000/60000]\n",
            "loss: 1.119626  [59400/60000]\n",
            "Test Error: \n",
            " Accuracy: 64.2%, Avg loss: 1.136948 \n",
            "\n",
            "Epoch 5\n",
            "-------------------------------\n",
            "loss: 1.131531  [    0/60000]\n",
            "loss: 1.205301  [ 5400/60000]\n",
            "loss: 1.075795  [10800/60000]\n",
            "loss: 1.013878  [16200/60000]\n",
            "loss: 0.983887  [21600/60000]\n",
            "loss: 0.953122  [27000/60000]\n",
            "loss: 1.103700  [32400/60000]\n",
            "loss: 1.044084  [37800/60000]\n",
            "loss: 1.044505  [43200/60000]\n",
            "loss: 1.177640  [48600/60000]\n",
            "loss: 0.989881  [54000/60000]\n",
            "loss: 0.975938  [59400/60000]\n",
            "Test Error: \n",
            " Accuracy: 65.8%, Avg loss: 0.998161 \n",
            "\n",
            "Epoch 6\n",
            "-------------------------------\n",
            "loss: 0.971492  [    0/60000]\n",
            "loss: 1.088349  [ 5400/60000]\n",
            "loss: 0.945388  [10800/60000]\n",
            "loss: 0.878622  [16200/60000]\n",
            "loss: 0.855519  [21600/60000]\n",
            "loss: 0.825991  [27000/60000]\n",
            "loss: 1.002412  [32400/60000]\n",
            "loss: 0.937810  [37800/60000]\n",
            "loss: 0.935152  [43200/60000]\n",
            "loss: 1.067941  [48600/60000]\n",
            "loss: 0.883762  [54000/60000]\n",
            "loss: 0.883627  [59400/60000]\n",
            "Test Error: \n",
            " Accuracy: 67.3%, Avg loss: 0.910583 \n",
            "\n",
            "Epoch 7\n",
            "-------------------------------\n",
            "loss: 0.863042  [    0/60000]\n",
            "loss: 1.017882  [ 5400/60000]\n",
            "loss: 0.858039  [10800/60000]\n",
            "loss: 0.792560  [16200/60000]\n",
            "loss: 0.772255  [21600/60000]\n",
            "loss: 0.741820  [27000/60000]\n",
            "loss: 0.938077  [32400/60000]\n",
            "loss: 0.862306  [37800/60000]\n",
            "loss: 0.859385  [43200/60000]\n",
            "loss: 0.984852  [48600/60000]\n",
            "loss: 0.810907  [54000/60000]\n",
            "loss: 0.819847  [59400/60000]\n",
            "Test Error: \n",
            " Accuracy: 68.7%, Avg loss: 0.851239 \n",
            "\n",
            "Epoch 8\n",
            "-------------------------------\n",
            "loss: 0.785740  [    0/60000]\n",
            "loss: 0.972919  [ 5400/60000]\n",
            "loss: 0.794504  [10800/60000]\n",
            "loss: 0.733105  [16200/60000]\n",
            "loss: 0.715173  [21600/60000]\n",
            "loss: 0.682371  [27000/60000]\n",
            "loss: 0.894419  [32400/60000]\n",
            "loss: 0.804967  [37800/60000]\n",
            "loss: 0.803857  [43200/60000]\n",
            "loss: 0.919021  [48600/60000]\n",
            "loss: 0.759068  [54000/60000]\n",
            "loss: 0.772141  [59400/60000]\n",
            "Test Error: \n",
            " Accuracy: 70.1%, Avg loss: 0.808129 \n",
            "\n",
            "Epoch 9\n",
            "-------------------------------\n",
            "loss: 0.727569  [    0/60000]\n",
            "loss: 0.942272  [ 5400/60000]\n",
            "loss: 0.745293  [10800/60000]\n",
            "loss: 0.688859  [16200/60000]\n",
            "loss: 0.674145  [21600/60000]\n",
            "loss: 0.637842  [27000/60000]\n",
            "loss: 0.862323  [32400/60000]\n",
            "loss: 0.759275  [37800/60000]\n",
            "loss: 0.760782  [43200/60000]\n",
            "loss: 0.865077  [48600/60000]\n",
            "loss: 0.720856  [54000/60000]\n",
            "loss: 0.733852  [59400/60000]\n",
            "Test Error: \n",
            " Accuracy: 71.6%, Avg loss: 0.774736 \n",
            "\n",
            "Epoch 10\n",
            "-------------------------------\n",
            "loss: 0.681455  [    0/60000]\n",
            "loss: 0.919214  [ 5400/60000]\n",
            "loss: 0.705987  [10800/60000]\n",
            "loss: 0.653762  [16200/60000]\n",
            "loss: 0.642937  [21600/60000]\n",
            "loss: 0.602368  [27000/60000]\n",
            "loss: 0.836760  [32400/60000]\n",
            "loss: 0.721443  [37800/60000]\n",
            "loss: 0.725339  [43200/60000]\n",
            "loss: 0.819988  [48600/60000]\n",
            "loss: 0.691837  [54000/60000]\n",
            "loss: 0.701419  [59400/60000]\n",
            "Test Error: \n",
            " Accuracy: 72.9%, Avg loss: 0.747391 \n",
            "\n",
            "Epoch 11\n",
            "-------------------------------\n",
            "loss: 0.643252  [    0/60000]\n",
            "loss: 0.900046  [ 5400/60000]\n",
            "loss: 0.673678  [10800/60000]\n",
            "loss: 0.624834  [16200/60000]\n",
            "loss: 0.617878  [21600/60000]\n",
            "loss: 0.572984  [27000/60000]\n",
            "loss: 0.814977  [32400/60000]\n",
            "loss: 0.689208  [37800/60000]\n",
            "loss: 0.694890  [43200/60000]\n",
            "loss: 0.781410  [48600/60000]\n",
            "loss: 0.669027  [54000/60000]\n",
            "loss: 0.672709  [59400/60000]\n",
            "Test Error: \n",
            " Accuracy: 74.0%, Avg loss: 0.723967 \n",
            "\n",
            "Epoch 12\n",
            "-------------------------------\n",
            "loss: 0.610693  [    0/60000]\n",
            "loss: 0.883092  [ 5400/60000]\n",
            "loss: 0.646578  [10800/60000]\n",
            "loss: 0.600141  [16200/60000]\n",
            "loss: 0.596758  [21600/60000]\n",
            "loss: 0.547838  [27000/60000]\n",
            "loss: 0.795841  [32400/60000]\n",
            "loss: 0.661011  [37800/60000]\n",
            "loss: 0.668070  [43200/60000]\n",
            "loss: 0.747963  [48600/60000]\n",
            "loss: 0.650213  [54000/60000]\n",
            "loss: 0.646426  [59400/60000]\n",
            "Test Error: \n",
            " Accuracy: 75.1%, Avg loss: 0.703255 \n",
            "\n",
            "Epoch 13\n",
            "-------------------------------\n",
            "loss: 0.582698  [    0/60000]\n",
            "loss: 0.867142  [ 5400/60000]\n",
            "loss: 0.623486  [10800/60000]\n",
            "loss: 0.578790  [16200/60000]\n",
            "loss: 0.578240  [21600/60000]\n",
            "loss: 0.525653  [27000/60000]\n",
            "loss: 0.778505  [32400/60000]\n",
            "loss: 0.635765  [37800/60000]\n",
            "loss: 0.644006  [43200/60000]\n",
            "loss: 0.718857  [48600/60000]\n",
            "loss: 0.634451  [54000/60000]\n",
            "loss: 0.622208  [59400/60000]\n",
            "Test Error: \n",
            " Accuracy: 76.0%, Avg loss: 0.684692 \n",
            "\n",
            "Epoch 14\n",
            "-------------------------------\n",
            "loss: 0.558051  [    0/60000]\n",
            "loss: 0.851929  [ 5400/60000]\n",
            "loss: 0.603562  [10800/60000]\n",
            "loss: 0.560158  [16200/60000]\n",
            "loss: 0.561753  [21600/60000]\n",
            "loss: 0.505994  [27000/60000]\n",
            "loss: 0.762714  [32400/60000]\n",
            "loss: 0.613462  [37800/60000]\n",
            "loss: 0.622271  [43200/60000]\n",
            "loss: 0.693355  [48600/60000]\n",
            "loss: 0.620930  [54000/60000]\n",
            "loss: 0.599665  [59400/60000]\n",
            "Test Error: \n",
            " Accuracy: 76.5%, Avg loss: 0.667889 \n",
            "\n",
            "Epoch 15\n",
            "-------------------------------\n",
            "loss: 0.536612  [    0/60000]\n",
            "loss: 0.837194  [ 5400/60000]\n",
            "loss: 0.586394  [10800/60000]\n",
            "loss: 0.543780  [16200/60000]\n",
            "loss: 0.546773  [21600/60000]\n",
            "loss: 0.488335  [27000/60000]\n",
            "loss: 0.748514  [32400/60000]\n",
            "loss: 0.593644  [37800/60000]\n",
            "loss: 0.602446  [43200/60000]\n",
            "loss: 0.670837  [48600/60000]\n",
            "loss: 0.609176  [54000/60000]\n",
            "loss: 0.578583  [59400/60000]\n",
            "Test Error: \n",
            " Accuracy: 76.9%, Avg loss: 0.652605 \n",
            "\n",
            "Epoch 16\n",
            "-------------------------------\n",
            "loss: 0.517750  [    0/60000]\n",
            "loss: 0.823002  [ 5400/60000]\n",
            "loss: 0.571405  [10800/60000]\n",
            "loss: 0.529286  [16200/60000]\n",
            "loss: 0.532935  [21600/60000]\n",
            "loss: 0.472380  [27000/60000]\n",
            "loss: 0.735673  [32400/60000]\n",
            "loss: 0.575747  [37800/60000]\n",
            "loss: 0.584218  [43200/60000]\n",
            "loss: 0.650986  [48600/60000]\n",
            "loss: 0.598874  [54000/60000]\n",
            "loss: 0.558763  [59400/60000]\n",
            "Test Error: \n",
            " Accuracy: 77.5%, Avg loss: 0.638683 \n",
            "\n",
            "Epoch 17\n",
            "-------------------------------\n",
            "loss: 0.501069  [    0/60000]\n",
            "loss: 0.809345  [ 5400/60000]\n",
            "loss: 0.558170  [10800/60000]\n",
            "loss: 0.516391  [16200/60000]\n",
            "loss: 0.520102  [21600/60000]\n",
            "loss: 0.457920  [27000/60000]\n",
            "loss: 0.724267  [32400/60000]\n",
            "loss: 0.559409  [37800/60000]\n",
            "loss: 0.567455  [43200/60000]\n",
            "loss: 0.633502  [48600/60000]\n",
            "loss: 0.589677  [54000/60000]\n",
            "loss: 0.540203  [59400/60000]\n",
            "Test Error: \n",
            " Accuracy: 78.1%, Avg loss: 0.626003 \n",
            "\n",
            "Epoch 18\n",
            "-------------------------------\n",
            "loss: 0.486279  [    0/60000]\n",
            "loss: 0.796220  [ 5400/60000]\n",
            "loss: 0.546376  [10800/60000]\n",
            "loss: 0.504858  [16200/60000]\n",
            "loss: 0.508066  [21600/60000]\n",
            "loss: 0.444803  [27000/60000]\n",
            "loss: 0.714197  [32400/60000]\n",
            "loss: 0.544537  [37800/60000]\n",
            "loss: 0.552004  [43200/60000]\n",
            "loss: 0.617965  [48600/60000]\n",
            "loss: 0.581442  [54000/60000]\n",
            "loss: 0.522910  [59400/60000]\n",
            "Test Error: \n",
            " Accuracy: 78.4%, Avg loss: 0.614446 \n",
            "\n",
            "Epoch 19\n",
            "-------------------------------\n",
            "loss: 0.473086  [    0/60000]\n",
            "loss: 0.783714  [ 5400/60000]\n",
            "loss: 0.535781  [10800/60000]\n",
            "loss: 0.494428  [16200/60000]\n",
            "loss: 0.496869  [21600/60000]\n",
            "loss: 0.432927  [27000/60000]\n",
            "loss: 0.705270  [32400/60000]\n",
            "loss: 0.530910  [37800/60000]\n",
            "loss: 0.537769  [43200/60000]\n",
            "loss: 0.604205  [48600/60000]\n",
            "loss: 0.573956  [54000/60000]\n",
            "loss: 0.506805  [59400/60000]\n",
            "Test Error: \n",
            " Accuracy: 79.0%, Avg loss: 0.603895 \n",
            "\n",
            "Epoch 20\n",
            "-------------------------------\n",
            "loss: 0.461297  [    0/60000]\n",
            "loss: 0.771879  [ 5400/60000]\n",
            "loss: 0.526156  [10800/60000]\n",
            "loss: 0.484977  [16200/60000]\n",
            "loss: 0.486317  [21600/60000]\n",
            "loss: 0.422170  [27000/60000]\n",
            "loss: 0.697207  [32400/60000]\n",
            "loss: 0.518404  [37800/60000]\n",
            "loss: 0.524639  [43200/60000]\n",
            "loss: 0.591985  [48600/60000]\n",
            "loss: 0.567191  [54000/60000]\n",
            "loss: 0.491809  [59400/60000]\n",
            "Test Error: \n",
            " Accuracy: 79.2%, Avg loss: 0.594241 \n",
            "\n",
            "Epoch 21\n",
            "-------------------------------\n",
            "loss: 0.450663  [    0/60000]\n",
            "loss: 0.760699  [ 5400/60000]\n",
            "loss: 0.517317  [10800/60000]\n",
            "loss: 0.476362  [16200/60000]\n",
            "loss: 0.476353  [21600/60000]\n",
            "loss: 0.412354  [27000/60000]\n",
            "loss: 0.689981  [32400/60000]\n",
            "loss: 0.506883  [37800/60000]\n",
            "loss: 0.512485  [43200/60000]\n",
            "loss: 0.581008  [48600/60000]\n",
            "loss: 0.560973  [54000/60000]\n",
            "loss: 0.477909  [59400/60000]\n",
            "Test Error: \n",
            " Accuracy: 79.5%, Avg loss: 0.585394 \n",
            "\n",
            "Epoch 22\n",
            "-------------------------------\n",
            "loss: 0.440996  [    0/60000]\n",
            "loss: 0.750273  [ 5400/60000]\n",
            "loss: 0.509153  [10800/60000]\n",
            "loss: 0.468477  [16200/60000]\n",
            "loss: 0.466958  [21600/60000]\n",
            "loss: 0.403409  [27000/60000]\n",
            "loss: 0.683425  [32400/60000]\n",
            "loss: 0.496181  [37800/60000]\n",
            "loss: 0.501296  [43200/60000]\n",
            "loss: 0.571097  [48600/60000]\n",
            "loss: 0.555257  [54000/60000]\n",
            "loss: 0.465050  [59400/60000]\n",
            "Test Error: \n",
            " Accuracy: 79.8%, Avg loss: 0.577274 \n",
            "\n",
            "Epoch 23\n",
            "-------------------------------\n",
            "loss: 0.432160  [    0/60000]\n",
            "loss: 0.740438  [ 5400/60000]\n",
            "loss: 0.501479  [10800/60000]\n",
            "loss: 0.461232  [16200/60000]\n",
            "loss: 0.457955  [21600/60000]\n",
            "loss: 0.395279  [27000/60000]\n",
            "loss: 0.677411  [32400/60000]\n",
            "loss: 0.486360  [37800/60000]\n",
            "loss: 0.490887  [43200/60000]\n",
            "loss: 0.562235  [48600/60000]\n",
            "loss: 0.549971  [54000/60000]\n",
            "loss: 0.453163  [59400/60000]\n",
            "Test Error: \n",
            " Accuracy: 79.9%, Avg loss: 0.569785 \n",
            "\n",
            "Epoch 24\n",
            "-------------------------------\n",
            "loss: 0.424031  [    0/60000]\n",
            "loss: 0.731233  [ 5400/60000]\n",
            "loss: 0.494362  [10800/60000]\n",
            "loss: 0.454455  [16200/60000]\n",
            "loss: 0.449453  [21600/60000]\n",
            "loss: 0.387828  [27000/60000]\n",
            "loss: 0.671989  [32400/60000]\n",
            "loss: 0.477266  [37800/60000]\n",
            "loss: 0.481312  [43200/60000]\n",
            "loss: 0.554267  [48600/60000]\n",
            "loss: 0.544905  [54000/60000]\n",
            "loss: 0.442111  [59400/60000]\n",
            "Test Error: \n",
            " Accuracy: 80.1%, Avg loss: 0.562874 \n",
            "\n",
            "Epoch 25\n",
            "-------------------------------\n",
            "loss: 0.416499  [    0/60000]\n",
            "loss: 0.722587  [ 5400/60000]\n",
            "loss: 0.487646  [10800/60000]\n",
            "loss: 0.448130  [16200/60000]\n",
            "loss: 0.441435  [21600/60000]\n",
            "loss: 0.381003  [27000/60000]\n",
            "loss: 0.666954  [32400/60000]\n",
            "loss: 0.468877  [37800/60000]\n",
            "loss: 0.472419  [43200/60000]\n",
            "loss: 0.547006  [48600/60000]\n",
            "loss: 0.540133  [54000/60000]\n",
            "loss: 0.431925  [59400/60000]\n",
            "Test Error: \n",
            " Accuracy: 80.4%, Avg loss: 0.556470 \n",
            "\n",
            "Epoch 26\n",
            "-------------------------------\n",
            "loss: 0.409420  [    0/60000]\n",
            "loss: 0.714519  [ 5400/60000]\n",
            "loss: 0.481242  [10800/60000]\n",
            "loss: 0.442219  [16200/60000]\n",
            "loss: 0.433911  [21600/60000]\n",
            "loss: 0.374680  [27000/60000]\n",
            "loss: 0.662378  [32400/60000]\n",
            "loss: 0.461115  [37800/60000]\n",
            "loss: 0.464178  [43200/60000]\n",
            "loss: 0.540365  [48600/60000]\n",
            "loss: 0.535710  [54000/60000]\n",
            "loss: 0.422496  [59400/60000]\n",
            "Test Error: \n",
            " Accuracy: 80.7%, Avg loss: 0.550527 \n",
            "\n",
            "Epoch 27\n",
            "-------------------------------\n",
            "loss: 0.402700  [    0/60000]\n",
            "loss: 0.706954  [ 5400/60000]\n",
            "loss: 0.475206  [10800/60000]\n",
            "loss: 0.436702  [16200/60000]\n",
            "loss: 0.426845  [21600/60000]\n",
            "loss: 0.368770  [27000/60000]\n",
            "loss: 0.658271  [32400/60000]\n",
            "loss: 0.453923  [37800/60000]\n",
            "loss: 0.456589  [43200/60000]\n",
            "loss: 0.534278  [48600/60000]\n",
            "loss: 0.531416  [54000/60000]\n",
            "loss: 0.413679  [59400/60000]\n",
            "Test Error: \n",
            " Accuracy: 80.9%, Avg loss: 0.545000 \n",
            "\n",
            "Epoch 28\n",
            "-------------------------------\n",
            "loss: 0.396291  [    0/60000]\n",
            "loss: 0.699990  [ 5400/60000]\n",
            "loss: 0.469534  [10800/60000]\n",
            "loss: 0.431560  [16200/60000]\n",
            "loss: 0.420230  [21600/60000]\n",
            "loss: 0.363292  [27000/60000]\n",
            "loss: 0.654403  [32400/60000]\n",
            "loss: 0.447337  [37800/60000]\n",
            "loss: 0.449553  [43200/60000]\n",
            "loss: 0.528618  [48600/60000]\n",
            "loss: 0.527308  [54000/60000]\n",
            "loss: 0.405482  [59400/60000]\n",
            "Test Error: \n",
            " Accuracy: 81.1%, Avg loss: 0.539856 \n",
            "\n",
            "Epoch 29\n",
            "-------------------------------\n",
            "loss: 0.390232  [    0/60000]\n",
            "loss: 0.693525  [ 5400/60000]\n",
            "loss: 0.464224  [10800/60000]\n",
            "loss: 0.426717  [16200/60000]\n",
            "loss: 0.413929  [21600/60000]\n",
            "loss: 0.358194  [27000/60000]\n",
            "loss: 0.650711  [32400/60000]\n",
            "loss: 0.441282  [37800/60000]\n",
            "loss: 0.443062  [43200/60000]\n",
            "loss: 0.523419  [48600/60000]\n",
            "loss: 0.523391  [54000/60000]\n",
            "loss: 0.397850  [59400/60000]\n",
            "Test Error: \n",
            " Accuracy: 81.2%, Avg loss: 0.535057 \n",
            "\n",
            "Epoch 30\n",
            "-------------------------------\n",
            "loss: 0.384472  [    0/60000]\n",
            "loss: 0.687537  [ 5400/60000]\n",
            "loss: 0.459137  [10800/60000]\n",
            "loss: 0.422162  [16200/60000]\n",
            "loss: 0.407992  [21600/60000]\n",
            "loss: 0.353446  [27000/60000]\n",
            "loss: 0.647172  [32400/60000]\n",
            "loss: 0.435702  [37800/60000]\n",
            "loss: 0.437097  [43200/60000]\n",
            "loss: 0.518604  [48600/60000]\n",
            "loss: 0.519603  [54000/60000]\n",
            "loss: 0.390690  [59400/60000]\n",
            "Test Error: \n",
            " Accuracy: 81.3%, Avg loss: 0.530565 \n",
            "\n",
            "Epoch 31\n",
            "-------------------------------\n",
            "loss: 0.379031  [    0/60000]\n",
            "loss: 0.682125  [ 5400/60000]\n",
            "loss: 0.454271  [10800/60000]\n",
            "loss: 0.417883  [16200/60000]\n",
            "loss: 0.402458  [21600/60000]\n",
            "loss: 0.349001  [27000/60000]\n",
            "loss: 0.643774  [32400/60000]\n",
            "loss: 0.430483  [37800/60000]\n",
            "loss: 0.431573  [43200/60000]\n",
            "loss: 0.514158  [48600/60000]\n",
            "loss: 0.515920  [54000/60000]\n",
            "loss: 0.383984  [59400/60000]\n",
            "Test Error: \n",
            " Accuracy: 81.4%, Avg loss: 0.526354 \n",
            "\n",
            "Epoch 32\n",
            "-------------------------------\n",
            "loss: 0.373838  [    0/60000]\n",
            "loss: 0.677146  [ 5400/60000]\n",
            "loss: 0.449658  [10800/60000]\n",
            "loss: 0.413850  [16200/60000]\n",
            "loss: 0.397208  [21600/60000]\n",
            "loss: 0.344797  [27000/60000]\n",
            "loss: 0.640526  [32400/60000]\n",
            "loss: 0.425625  [37800/60000]\n",
            "loss: 0.426408  [43200/60000]\n",
            "loss: 0.510040  [48600/60000]\n",
            "loss: 0.512387  [54000/60000]\n",
            "loss: 0.377686  [59400/60000]\n",
            "Test Error: \n",
            " Accuracy: 81.5%, Avg loss: 0.522399 \n",
            "\n",
            "Epoch 33\n",
            "-------------------------------\n",
            "loss: 0.368839  [    0/60000]\n",
            "loss: 0.672513  [ 5400/60000]\n",
            "loss: 0.445293  [10800/60000]\n",
            "loss: 0.410107  [16200/60000]\n",
            "loss: 0.392222  [21600/60000]\n",
            "loss: 0.340802  [27000/60000]\n",
            "loss: 0.637418  [32400/60000]\n",
            "loss: 0.421111  [37800/60000]\n",
            "loss: 0.421587  [43200/60000]\n",
            "loss: 0.506224  [48600/60000]\n",
            "loss: 0.508973  [54000/60000]\n",
            "loss: 0.371811  [59400/60000]\n",
            "Test Error: \n",
            " Accuracy: 81.7%, Avg loss: 0.518676 \n",
            "\n",
            "Epoch 34\n",
            "-------------------------------\n",
            "loss: 0.364068  [    0/60000]\n",
            "loss: 0.668397  [ 5400/60000]\n",
            "loss: 0.441146  [10800/60000]\n",
            "loss: 0.406588  [16200/60000]\n",
            "loss: 0.387518  [21600/60000]\n",
            "loss: 0.337042  [27000/60000]\n",
            "loss: 0.634431  [32400/60000]\n",
            "loss: 0.416845  [37800/60000]\n",
            "loss: 0.417046  [43200/60000]\n",
            "loss: 0.502658  [48600/60000]\n",
            "loss: 0.505652  [54000/60000]\n",
            "loss: 0.366240  [59400/60000]\n",
            "Test Error: \n",
            " Accuracy: 81.7%, Avg loss: 0.515165 \n",
            "\n",
            "Epoch 35\n",
            "-------------------------------\n",
            "loss: 0.359416  [    0/60000]\n",
            "loss: 0.664665  [ 5400/60000]\n",
            "loss: 0.437123  [10800/60000]\n",
            "loss: 0.403261  [16200/60000]\n",
            "loss: 0.383102  [21600/60000]\n",
            "loss: 0.333449  [27000/60000]\n",
            "loss: 0.631606  [32400/60000]\n",
            "loss: 0.412861  [37800/60000]\n",
            "loss: 0.412810  [43200/60000]\n",
            "loss: 0.499385  [48600/60000]\n",
            "loss: 0.502449  [54000/60000]\n",
            "loss: 0.360984  [59400/60000]\n",
            "Test Error: \n",
            " Accuracy: 81.8%, Avg loss: 0.511848 \n",
            "\n",
            "Epoch 36\n",
            "-------------------------------\n",
            "loss: 0.354816  [    0/60000]\n",
            "loss: 0.661327  [ 5400/60000]\n",
            "loss: 0.433350  [10800/60000]\n",
            "loss: 0.400133  [16200/60000]\n",
            "loss: 0.378981  [21600/60000]\n",
            "loss: 0.330078  [27000/60000]\n",
            "loss: 0.628891  [32400/60000]\n",
            "loss: 0.409061  [37800/60000]\n",
            "loss: 0.408804  [43200/60000]\n",
            "loss: 0.496332  [48600/60000]\n",
            "loss: 0.499275  [54000/60000]\n",
            "loss: 0.356018  [59400/60000]\n",
            "Test Error: \n",
            " Accuracy: 81.9%, Avg loss: 0.508704 \n",
            "\n",
            "Epoch 37\n",
            "-------------------------------\n",
            "loss: 0.350293  [    0/60000]\n",
            "loss: 0.658308  [ 5400/60000]\n",
            "loss: 0.429718  [10800/60000]\n",
            "loss: 0.397178  [16200/60000]\n",
            "loss: 0.375143  [21600/60000]\n",
            "loss: 0.326856  [27000/60000]\n",
            "loss: 0.626309  [32400/60000]\n",
            "loss: 0.405404  [37800/60000]\n",
            "loss: 0.404992  [43200/60000]\n",
            "loss: 0.493477  [48600/60000]\n",
            "loss: 0.496099  [54000/60000]\n",
            "loss: 0.351322  [59400/60000]\n",
            "Test Error: \n",
            " Accuracy: 82.0%, Avg loss: 0.505718 \n",
            "\n",
            "Epoch 38\n",
            "-------------------------------\n",
            "loss: 0.345899  [    0/60000]\n",
            "loss: 0.655626  [ 5400/60000]\n",
            "loss: 0.426259  [10800/60000]\n",
            "loss: 0.394410  [16200/60000]\n",
            "loss: 0.371558  [21600/60000]\n",
            "loss: 0.323743  [27000/60000]\n",
            "loss: 0.623795  [32400/60000]\n",
            "loss: 0.401906  [37800/60000]\n",
            "loss: 0.401349  [43200/60000]\n",
            "loss: 0.490807  [48600/60000]\n",
            "loss: 0.492970  [54000/60000]\n",
            "loss: 0.346950  [59400/60000]\n",
            "Test Error: \n",
            " Accuracy: 82.1%, Avg loss: 0.502882 \n",
            "\n",
            "Epoch 39\n",
            "-------------------------------\n",
            "loss: 0.341630  [    0/60000]\n",
            "loss: 0.653254  [ 5400/60000]\n",
            "loss: 0.422926  [10800/60000]\n",
            "loss: 0.391802  [16200/60000]\n",
            "loss: 0.368201  [21600/60000]\n",
            "loss: 0.320752  [27000/60000]\n",
            "loss: 0.621373  [32400/60000]\n",
            "loss: 0.398563  [37800/60000]\n",
            "loss: 0.397928  [43200/60000]\n",
            "loss: 0.488326  [48600/60000]\n",
            "loss: 0.489922  [54000/60000]\n",
            "loss: 0.342785  [59400/60000]\n",
            "Test Error: \n",
            " Accuracy: 82.2%, Avg loss: 0.500175 \n",
            "\n",
            "Epoch 40\n",
            "-------------------------------\n",
            "loss: 0.337449  [    0/60000]\n",
            "loss: 0.651099  [ 5400/60000]\n",
            "loss: 0.419759  [10800/60000]\n",
            "loss: 0.389338  [16200/60000]\n",
            "loss: 0.364985  [21600/60000]\n",
            "loss: 0.317859  [27000/60000]\n",
            "loss: 0.618979  [32400/60000]\n",
            "loss: 0.395284  [37800/60000]\n",
            "loss: 0.394669  [43200/60000]\n",
            "loss: 0.486015  [48600/60000]\n",
            "loss: 0.486949  [54000/60000]\n",
            "loss: 0.338819  [59400/60000]\n",
            "Test Error: \n",
            " Accuracy: 82.3%, Avg loss: 0.497589 \n",
            "\n",
            "Epoch 41\n",
            "-------------------------------\n",
            "loss: 0.333348  [    0/60000]\n",
            "loss: 0.649162  [ 5400/60000]\n",
            "loss: 0.416634  [10800/60000]\n",
            "loss: 0.386991  [16200/60000]\n",
            "loss: 0.361904  [21600/60000]\n",
            "loss: 0.315079  [27000/60000]\n",
            "loss: 0.616627  [32400/60000]\n",
            "loss: 0.392111  [37800/60000]\n",
            "loss: 0.391469  [43200/60000]\n",
            "loss: 0.483858  [48600/60000]\n",
            "loss: 0.484019  [54000/60000]\n",
            "loss: 0.335044  [59400/60000]\n",
            "Test Error: \n",
            " Accuracy: 82.4%, Avg loss: 0.495109 \n",
            "\n",
            "Epoch 42\n",
            "-------------------------------\n",
            "loss: 0.329329  [    0/60000]\n",
            "loss: 0.647476  [ 5400/60000]\n",
            "loss: 0.413620  [10800/60000]\n",
            "loss: 0.384757  [16200/60000]\n",
            "loss: 0.359042  [21600/60000]\n",
            "loss: 0.312421  [27000/60000]\n",
            "loss: 0.614286  [32400/60000]\n",
            "loss: 0.389003  [37800/60000]\n",
            "loss: 0.388439  [43200/60000]\n",
            "loss: 0.481805  [48600/60000]\n",
            "loss: 0.481045  [54000/60000]\n",
            "loss: 0.331490  [59400/60000]\n",
            "Test Error: \n",
            " Accuracy: 82.5%, Avg loss: 0.492740 \n",
            "\n",
            "Epoch 43\n",
            "-------------------------------\n",
            "loss: 0.325383  [    0/60000]\n",
            "loss: 0.646063  [ 5400/60000]\n",
            "loss: 0.410687  [10800/60000]\n",
            "loss: 0.382654  [16200/60000]\n",
            "loss: 0.356335  [21600/60000]\n",
            "loss: 0.309891  [27000/60000]\n",
            "loss: 0.611993  [32400/60000]\n",
            "loss: 0.385933  [37800/60000]\n",
            "loss: 0.385572  [43200/60000]\n",
            "loss: 0.479832  [48600/60000]\n",
            "loss: 0.478133  [54000/60000]\n",
            "loss: 0.328147  [59400/60000]\n",
            "Test Error: \n",
            " Accuracy: 82.5%, Avg loss: 0.490467 \n",
            "\n",
            "Epoch 44\n",
            "-------------------------------\n",
            "loss: 0.321494  [    0/60000]\n",
            "loss: 0.644720  [ 5400/60000]\n",
            "loss: 0.407838  [10800/60000]\n",
            "loss: 0.380631  [16200/60000]\n",
            "loss: 0.353698  [21600/60000]\n",
            "loss: 0.307449  [27000/60000]\n",
            "loss: 0.609699  [32400/60000]\n",
            "loss: 0.382933  [37800/60000]\n",
            "loss: 0.382844  [43200/60000]\n",
            "loss: 0.478029  [48600/60000]\n",
            "loss: 0.475259  [54000/60000]\n",
            "loss: 0.324989  [59400/60000]\n",
            "Test Error: \n",
            " Accuracy: 82.5%, Avg loss: 0.488281 \n",
            "\n",
            "Epoch 45\n",
            "-------------------------------\n",
            "loss: 0.317703  [    0/60000]\n",
            "loss: 0.643404  [ 5400/60000]\n",
            "loss: 0.405108  [10800/60000]\n",
            "loss: 0.378739  [16200/60000]\n",
            "loss: 0.351187  [21600/60000]\n",
            "loss: 0.305091  [27000/60000]\n",
            "loss: 0.607363  [32400/60000]\n",
            "loss: 0.379968  [37800/60000]\n",
            "loss: 0.380273  [43200/60000]\n",
            "loss: 0.476361  [48600/60000]\n",
            "loss: 0.472494  [54000/60000]\n",
            "loss: 0.321889  [59400/60000]\n",
            "Test Error: \n",
            " Accuracy: 82.6%, Avg loss: 0.486179 \n",
            "\n",
            "Epoch 46\n",
            "-------------------------------\n",
            "loss: 0.313943  [    0/60000]\n",
            "loss: 0.642210  [ 5400/60000]\n",
            "loss: 0.402520  [10800/60000]\n",
            "loss: 0.376955  [16200/60000]\n",
            "loss: 0.348764  [21600/60000]\n",
            "loss: 0.302832  [27000/60000]\n",
            "loss: 0.604979  [32400/60000]\n",
            "loss: 0.377014  [37800/60000]\n",
            "loss: 0.377770  [43200/60000]\n",
            "loss: 0.474803  [48600/60000]\n",
            "loss: 0.469768  [54000/60000]\n",
            "loss: 0.318970  [59400/60000]\n",
            "Test Error: \n",
            " Accuracy: 82.7%, Avg loss: 0.484155 \n",
            "\n",
            "Epoch 47\n",
            "-------------------------------\n",
            "loss: 0.310259  [    0/60000]\n",
            "loss: 0.641117  [ 5400/60000]\n",
            "loss: 0.399962  [10800/60000]\n",
            "loss: 0.375315  [16200/60000]\n",
            "loss: 0.346461  [21600/60000]\n",
            "loss: 0.300708  [27000/60000]\n",
            "loss: 0.602492  [32400/60000]\n",
            "loss: 0.374082  [37800/60000]\n",
            "loss: 0.375436  [43200/60000]\n",
            "loss: 0.473319  [48600/60000]\n",
            "loss: 0.467049  [54000/60000]\n",
            "loss: 0.316230  [59400/60000]\n",
            "Test Error: \n",
            " Accuracy: 82.7%, Avg loss: 0.482209 \n",
            "\n",
            "Epoch 48\n",
            "-------------------------------\n",
            "loss: 0.306752  [    0/60000]\n",
            "loss: 0.640171  [ 5400/60000]\n",
            "loss: 0.397400  [10800/60000]\n",
            "loss: 0.373707  [16200/60000]\n",
            "loss: 0.344283  [21600/60000]\n",
            "loss: 0.298536  [27000/60000]\n",
            "loss: 0.600138  [32400/60000]\n",
            "loss: 0.371264  [37800/60000]\n",
            "loss: 0.373171  [43200/60000]\n",
            "loss: 0.471901  [48600/60000]\n",
            "loss: 0.464409  [54000/60000]\n",
            "loss: 0.313573  [59400/60000]\n",
            "Test Error: \n",
            " Accuracy: 82.8%, Avg loss: 0.480330 \n",
            "\n",
            "Epoch 49\n",
            "-------------------------------\n",
            "loss: 0.303328  [    0/60000]\n",
            "loss: 0.639361  [ 5400/60000]\n",
            "loss: 0.394794  [10800/60000]\n",
            "loss: 0.372219  [16200/60000]\n",
            "loss: 0.342229  [21600/60000]\n",
            "loss: 0.296427  [27000/60000]\n",
            "loss: 0.597888  [32400/60000]\n",
            "loss: 0.368547  [37800/60000]\n",
            "loss: 0.371006  [43200/60000]\n",
            "loss: 0.470613  [48600/60000]\n",
            "loss: 0.461777  [54000/60000]\n",
            "loss: 0.311026  [59400/60000]\n",
            "Test Error: \n",
            " Accuracy: 82.8%, Avg loss: 0.478512 \n",
            "\n",
            "Epoch 50\n",
            "-------------------------------\n",
            "loss: 0.300028  [    0/60000]\n",
            "loss: 0.638735  [ 5400/60000]\n",
            "loss: 0.392230  [10800/60000]\n",
            "loss: 0.370770  [16200/60000]\n",
            "loss: 0.340267  [21600/60000]\n",
            "loss: 0.294405  [27000/60000]\n",
            "loss: 0.595614  [32400/60000]\n",
            "loss: 0.365836  [37800/60000]\n",
            "loss: 0.368914  [43200/60000]\n",
            "loss: 0.469324  [48600/60000]\n",
            "loss: 0.459206  [54000/60000]\n",
            "loss: 0.308581  [59400/60000]\n",
            "Test Error: \n",
            " Accuracy: 83.0%, Avg loss: 0.476764 \n",
            "\n",
            "Done!\n"
          ]
        }
      ]
    },
    {
      "cell_type": "markdown",
      "source": [
        "We shall now start with PyTorch's tensor. What are tensors mathematically? Tensors are objects that define a \"multilinear\" relationship between algebraic objects and vector spaces.\n",
        "\n",
        "Tensors are similar to ndarrays in numpy except for the fact that:\n",
        "1. tensors can run on GPU and other accelerators\n",
        "2. tensors are optimized for automatic differentiation "
      ],
      "metadata": {
        "id": "eoMXTimJGBW3"
      }
    },
    {
      "cell_type": "code",
      "source": [
        "import numpy as np\n",
        "import torch"
      ],
      "metadata": {
        "id": "286zd8150GMT"
      },
      "execution_count": 66,
      "outputs": []
    },
    {
      "cell_type": "markdown",
      "source": [
        "There are four ways to initialize a tensor:\n",
        "1.   from data\n",
        "2.   from numpy array\n",
        "3.   form another tensor\n",
        "4.   with some constant value like 0 or 1 or random numbers"
      ],
      "metadata": {
        "id": "8NtFlhfF0PSQ"
      }
    },
    {
      "cell_type": "code",
      "source": [
        "#Through 1st method\n",
        "x=[[1,2],[3,4]]\n",
        "data=torch.tensor(x)\n",
        "data"
      ],
      "metadata": {
        "colab": {
          "base_uri": "https://localhost:8080/"
        },
        "id": "BkWsg_6K0mUT",
        "outputId": "3e72111d-d71b-44fc-c4c7-f58506e149a9"
      },
      "execution_count": 67,
      "outputs": [
        {
          "output_type": "execute_result",
          "data": {
            "text/plain": [
              "tensor([[1, 2],\n",
              "        [3, 4]])"
            ]
          },
          "metadata": {},
          "execution_count": 67
        }
      ]
    },
    {
      "cell_type": "code",
      "source": [
        "#Through 2nd method\n",
        "y=np.array([[1,2],[3,4]])\n",
        "data_np=torch.from_numpy(y)\n",
        "data_np"
      ],
      "metadata": {
        "colab": {
          "base_uri": "https://localhost:8080/"
        },
        "id": "QWfSsRMJ0xqk",
        "outputId": "dae818b9-6f7b-4cbf-9f73-dfa6eba1d326"
      },
      "execution_count": 68,
      "outputs": [
        {
          "output_type": "execute_result",
          "data": {
            "text/plain": [
              "tensor([[1, 2],\n",
              "        [3, 4]])"
            ]
          },
          "metadata": {},
          "execution_count": 68
        }
      ]
    },
    {
      "cell_type": "code",
      "source": [
        "#Through 3rd method\n",
        "z=torch.ones_like(data)\n",
        "w=torch.rand_like(data, dtype=torch.float)\n",
        "print(z)\n",
        "print(w)\n",
        "#When initializing a tensor from a tensor, we use a tensor and then the functions like ones_like, zeros_like, rand_like to add to it while preserving the shape of data which was (2,2)"
      ],
      "metadata": {
        "colab": {
          "base_uri": "https://localhost:8080/"
        },
        "id": "kuIC-Yow1Al6",
        "outputId": "b0fafda6-d8fa-4f37-be83-766efd051175"
      },
      "execution_count": 69,
      "outputs": [
        {
          "output_type": "stream",
          "name": "stdout",
          "text": [
            "tensor([[1, 1],\n",
            "        [1, 1]])\n",
            "tensor([[0.3599, 0.8769],\n",
            "        [0.0321, 0.6239]])\n"
          ]
        }
      ]
    },
    {
      "cell_type": "code",
      "source": [
        "shape = (2,3,)\n",
        "rand_tensor = torch.rand(shape)\n",
        "#There is a difference between ones_like,rand_like and ones, rand, which is the fact that ones_like preserve shape of data and does not explicitly take shape input but wants\n",
        "#a tensor as an input while torch.ones wants a shape as an input."
      ],
      "metadata": {
        "id": "feDTHURW1kah"
      },
      "execution_count": 70,
      "outputs": []
    },
    {
      "cell_type": "markdown",
      "source": [
        "The attributes of a tensor are its shape, data type and the device that it is stored on. Let us talk about our tensor data."
      ],
      "metadata": {
        "id": "7OBwsMVg2RC1"
      }
    },
    {
      "cell_type": "code",
      "source": [
        "print(data.shape)\n",
        "print(data.dtype)\n",
        "print(data.device)"
      ],
      "metadata": {
        "colab": {
          "base_uri": "https://localhost:8080/"
        },
        "id": "cneRIIIW2Z7n",
        "outputId": "1c17a060-93ec-428d-e738-ef34ed9906e6"
      },
      "execution_count": 71,
      "outputs": [
        {
          "output_type": "stream",
          "name": "stdout",
          "text": [
            "torch.Size([2, 2])\n",
            "torch.int64\n",
            "cpu\n"
          ]
        }
      ]
    },
    {
      "cell_type": "markdown",
      "source": [
        "We can also join two or more tensors along a given dimension. If dimension is 1, then we join it by concatenating them in the column and if dimension is 0 then it is through rows."
      ],
      "metadata": {
        "id": "F3C3w09r2y8A"
      }
    },
    {
      "cell_type": "code",
      "source": [
        "t1=torch.cat([data,data_np],dim=1)\n",
        "t1"
      ],
      "metadata": {
        "colab": {
          "base_uri": "https://localhost:8080/"
        },
        "id": "ATZJmRbp2mGe",
        "outputId": "fbc0636a-ced2-4021-c31c-e210ff91bd88"
      },
      "execution_count": 72,
      "outputs": [
        {
          "output_type": "execute_result",
          "data": {
            "text/plain": [
              "tensor([[1, 2, 1, 2],\n",
              "        [3, 4, 3, 4]])"
            ]
          },
          "metadata": {},
          "execution_count": 72
        }
      ]
    },
    {
      "cell_type": "code",
      "source": [
        "t2=torch.cat([data,data_np], dim=0)\n",
        "t2"
      ],
      "metadata": {
        "colab": {
          "base_uri": "https://localhost:8080/"
        },
        "id": "88UtbPdO3OgT",
        "outputId": "5df2d43e-06d3-4e0d-97b0-7b4583084aa5"
      },
      "execution_count": 73,
      "outputs": [
        {
          "output_type": "execute_result",
          "data": {
            "text/plain": [
              "tensor([[1, 2],\n",
              "        [3, 4],\n",
              "        [1, 2],\n",
              "        [3, 4]])"
            ]
          },
          "metadata": {},
          "execution_count": 73
        }
      ]
    },
    {
      "cell_type": "code",
      "source": [
        "t3=torch.cat([data,data_np],dim=3) #there is error since there are only two dimensions - row-wise or column-wise, we cannot concatenate along any third dimension."
      ],
      "metadata": {
        "colab": {
          "base_uri": "https://localhost:8080/",
          "height": 158
        },
        "id": "X8XsO1I63ULA",
        "outputId": "358b1c75-2ec6-40b8-f4db-de82927acae9"
      },
      "execution_count": 74,
      "outputs": [
        {
          "output_type": "error",
          "ename": "IndexError",
          "evalue": "ignored",
          "traceback": [
            "\u001b[0;31m---------------------------------------------------------------------------\u001b[0m",
            "\u001b[0;31mIndexError\u001b[0m                                Traceback (most recent call last)",
            "\u001b[0;32m<ipython-input-74-66cc697febd9>\u001b[0m in \u001b[0;36m<module>\u001b[0;34m\u001b[0m\n\u001b[0;32m----> 1\u001b[0;31m \u001b[0mt3\u001b[0m\u001b[0;34m=\u001b[0m\u001b[0mtorch\u001b[0m\u001b[0;34m.\u001b[0m\u001b[0mcat\u001b[0m\u001b[0;34m(\u001b[0m\u001b[0;34m[\u001b[0m\u001b[0mdata\u001b[0m\u001b[0;34m,\u001b[0m\u001b[0mdata_np\u001b[0m\u001b[0;34m]\u001b[0m\u001b[0;34m,\u001b[0m\u001b[0mdim\u001b[0m\u001b[0;34m=\u001b[0m\u001b[0;36m3\u001b[0m\u001b[0;34m)\u001b[0m \u001b[0;31m#there is error since there are only two dimensions - row-wise or column-wise, we cannot concatenate along any third dimension.\u001b[0m\u001b[0;34m\u001b[0m\u001b[0;34m\u001b[0m\u001b[0m\n\u001b[0m",
            "\u001b[0;31mIndexError\u001b[0m: Dimension out of range (expected to be in range of [-2, 1], but got 3)"
          ]
        }
      ]
    },
    {
      "cell_type": "markdown",
      "source": [
        "Let us now try the arithmetic operations that we know for numpy ndarrays on tensors."
      ],
      "metadata": {
        "id": "8CbJo0AQ3i3n"
      }
    },
    {
      "cell_type": "code",
      "source": [
        "data_t=data.T #this returns transpose of data in pytorch\n",
        "data_t "
      ],
      "metadata": {
        "colab": {
          "base_uri": "https://localhost:8080/"
        },
        "id": "RGKENh7Q3sSI",
        "outputId": "15f26967-2fcd-4ab0-ff39-ddb31dc56afd"
      },
      "execution_count": 75,
      "outputs": [
        {
          "output_type": "execute_result",
          "data": {
            "text/plain": [
              "tensor([[1, 3],\n",
              "        [2, 4]])"
            ]
          },
          "metadata": {},
          "execution_count": 75
        }
      ]
    },
    {
      "cell_type": "code",
      "source": [
        "a=np.array([[1,2],[5,4]])\n",
        "b=a.T #this is the same operation in numpy"
      ],
      "metadata": {
        "id": "DNi2_P6p3saS"
      },
      "execution_count": 76,
      "outputs": []
    },
    {
      "cell_type": "code",
      "source": [
        "print(data @ data_t)\n",
        "print(a @ b) \n",
        "#THis is for matrix multiplication. We can also use matmul\n",
        "print(data.matmul(data_t))\n",
        "print(np.matmul(a,b))\n",
        "#In numpy also we have matmul but it works differently in terms of syntax.\n",
        "#@ is the semantics for matmul"
      ],
      "metadata": {
        "colab": {
          "base_uri": "https://localhost:8080/"
        },
        "id": "fYfkCqNr4QXu",
        "outputId": "8ebad32e-79fc-47b6-99c5-2456976b776e"
      },
      "execution_count": 77,
      "outputs": [
        {
          "output_type": "stream",
          "name": "stdout",
          "text": [
            "tensor([[ 5, 11],\n",
            "        [11, 25]])\n",
            "[[ 5 13]\n",
            " [13 41]]\n",
            "tensor([[ 5, 11],\n",
            "        [11, 25]])\n",
            "[[ 5 13]\n",
            " [13 41]]\n"
          ]
        }
      ]
    },
    {
      "cell_type": "code",
      "source": [
        "#Let us now try component wise multiplication \n",
        "data*data.T"
      ],
      "metadata": {
        "colab": {
          "base_uri": "https://localhost:8080/"
        },
        "id": "yEpomhso5Dww",
        "outputId": "491c68cd-6699-4194-9d4b-ab36a2a70d32"
      },
      "execution_count": 78,
      "outputs": [
        {
          "output_type": "execute_result",
          "data": {
            "text/plain": [
              "tensor([[ 1,  6],\n",
              "        [ 6, 16]])"
            ]
          },
          "metadata": {},
          "execution_count": 78
        }
      ]
    },
    {
      "cell_type": "code",
      "source": [
        "#Broadcasting also happens in tensors. For example:\n",
        "u=[3]\n",
        "u_tensor=torch.tensor(u)\n",
        "print(u_tensor)\n",
        "print(data+u_tensor)\n",
        "print(data*u_tensor)"
      ],
      "metadata": {
        "colab": {
          "base_uri": "https://localhost:8080/"
        },
        "id": "9Y8JWFiQ5V7l",
        "outputId": "5853fb44-f311-49bd-c240-f771ec36acca"
      },
      "execution_count": 79,
      "outputs": [
        {
          "output_type": "stream",
          "name": "stdout",
          "text": [
            "tensor([3])\n",
            "tensor([[4, 5],\n",
            "        [6, 7]])\n",
            "tensor([[ 3,  6],\n",
            "        [ 9, 12]])\n"
          ]
        }
      ]
    },
    {
      "cell_type": "markdown",
      "source": [
        "##Transforms\n",
        "Data does not always come in the shape that is acceptable for training a machine learning algorithm, so we can perform some manipulations on this data and make it of the acceptable form. These manipulations are called transformations. All TorchVision datasets have two parameters -transform to modify the features and target_transform to modify the labels. For former we use To_Tensor() and for latter we use lambda functions when we want to define a function to turn the integer into a one-hot encoded tensor."
      ],
      "metadata": {
        "id": "4CI2JS656Hnz"
      }
    },
    {
      "cell_type": "code",
      "source": [
        "target_transform = Lambda(lambda y: torch.zeros(10, dtype=torch.float).scatter_(dim=0, index=torch.tensor(y), value=1))\n",
        "#the first part creates zero tensor of size 10. The second part scatter_ assigns value 1 to all the index given by label y"
      ],
      "metadata": {
        "colab": {
          "base_uri": "https://localhost:8080/",
          "height": 175
        },
        "id": "EP6WzkTk-L-E",
        "outputId": "94219ca8-720f-46c8-9b5b-69ddfef7ca0d"
      },
      "execution_count": 80,
      "outputs": [
        {
          "output_type": "error",
          "ename": "NameError",
          "evalue": "ignored",
          "traceback": [
            "\u001b[0;31m---------------------------------------------------------------------------\u001b[0m",
            "\u001b[0;31mNameError\u001b[0m                                 Traceback (most recent call last)",
            "\u001b[0;32m<ipython-input-80-29c1ed01c04e>\u001b[0m in \u001b[0;36m<module>\u001b[0;34m\u001b[0m\n\u001b[0;32m----> 1\u001b[0;31m \u001b[0mtarget_transform\u001b[0m \u001b[0;34m=\u001b[0m \u001b[0mLambda\u001b[0m\u001b[0;34m(\u001b[0m\u001b[0;32mlambda\u001b[0m \u001b[0my\u001b[0m\u001b[0;34m:\u001b[0m \u001b[0mtorch\u001b[0m\u001b[0;34m.\u001b[0m\u001b[0mzeros\u001b[0m\u001b[0;34m(\u001b[0m\u001b[0;36m10\u001b[0m\u001b[0;34m,\u001b[0m \u001b[0mdtype\u001b[0m\u001b[0;34m=\u001b[0m\u001b[0mtorch\u001b[0m\u001b[0;34m.\u001b[0m\u001b[0mfloat\u001b[0m\u001b[0;34m)\u001b[0m\u001b[0;34m.\u001b[0m\u001b[0mscatter_\u001b[0m\u001b[0;34m(\u001b[0m\u001b[0mdim\u001b[0m\u001b[0;34m=\u001b[0m\u001b[0;36m0\u001b[0m\u001b[0;34m,\u001b[0m \u001b[0mindex\u001b[0m\u001b[0;34m=\u001b[0m\u001b[0mtorch\u001b[0m\u001b[0;34m.\u001b[0m\u001b[0mtensor\u001b[0m\u001b[0;34m(\u001b[0m\u001b[0my\u001b[0m\u001b[0;34m)\u001b[0m\u001b[0;34m,\u001b[0m \u001b[0mvalue\u001b[0m\u001b[0;34m=\u001b[0m\u001b[0;36m1\u001b[0m\u001b[0;34m)\u001b[0m\u001b[0;34m)\u001b[0m\u001b[0;34m\u001b[0m\u001b[0;34m\u001b[0m\u001b[0m\n\u001b[0m\u001b[1;32m      2\u001b[0m \u001b[0;31m#the first part creates zero tensor of size 10. The second part scatter_ assigns value 1 to all the index given by label y\u001b[0m\u001b[0;34m\u001b[0m\u001b[0;34m\u001b[0m\u001b[0;34m\u001b[0m\u001b[0m\n",
            "\u001b[0;31mNameError\u001b[0m: name 'Lambda' is not defined"
          ]
        }
      ]
    },
    {
      "cell_type": "markdown",
      "source": [
        "##Build the Neural Network\n",
        "\n",
        "Neural networks contain layers that perform operation on data. `torch.nn` provides all the building blocks you need to build a custom neural networks. All models are subclasses of `nn.Module`. Even a neural network is a module containing other layers/modules and is contained in this module. It is the base class for all neural network models. "
      ],
      "metadata": {
        "id": "VDiUvFZ6_7RR"
      }
    },
    {
      "cell_type": "code",
      "source": [
        "#We start by getting the right device for training\n",
        "device=\"cuda\" if torch.cuda.is_available() else \"cpu\"\n",
        "device"
      ],
      "metadata": {
        "colab": {
          "base_uri": "https://localhost:8080/",
          "height": 34
        },
        "id": "rX0xKC6ACakZ",
        "outputId": "15790f87-cdbd-4e4f-81ea-c2a39800e550"
      },
      "execution_count": 81,
      "outputs": [
        {
          "output_type": "execute_result",
          "data": {
            "text/plain": [
              "'cuda'"
            ],
            "application/vnd.google.colaboratory.intrinsic+json": {
              "type": "string"
            }
          },
          "metadata": {},
          "execution_count": 81
        }
      ]
    },
    {
      "cell_type": "code",
      "source": [
        "#We now define our neural network by subclassing `nn.Module`\n",
        "import torch.nn as nn\n",
        "class NeuralNetwork(nn.Module):\n",
        "  def __init__(self):\n",
        "    super(NeuralNetwork, self).__init__()\n",
        "    self.flatten = nn.Flatten()\n",
        "    self.linear_relu_stack = nn.Sequential(\n",
        "          nn.Linear(28*28, 512),\n",
        "          nn.ReLU(),\n",
        "          nn.Linear(512, 512),\n",
        "          nn.ReLU(),\n",
        "          nn.Linear(512, 10),\n",
        "      )\n",
        "    \n",
        "  def forward(self, x):\n",
        "        x = self.flatten(x)\n",
        "        logits = self.linear_relu_stack(x)\n",
        "        return logits\n"
      ],
      "metadata": {
        "id": "ASgPIF9lCsyj"
      },
      "execution_count": 82,
      "outputs": []
    },
    {
      "cell_type": "code",
      "source": [
        "model = NeuralNetwork().to(device)\n",
        "print(model)"
      ],
      "metadata": {
        "colab": {
          "base_uri": "https://localhost:8080/"
        },
        "id": "LJJAuw89Dlsy",
        "outputId": "fceb46cc-9eaf-4ea4-95f3-64b6d70462b2"
      },
      "execution_count": 83,
      "outputs": [
        {
          "output_type": "stream",
          "name": "stdout",
          "text": [
            "NeuralNetwork(\n",
            "  (flatten): Flatten(start_dim=1, end_dim=-1)\n",
            "  (linear_relu_stack): Sequential(\n",
            "    (0): Linear(in_features=784, out_features=512, bias=True)\n",
            "    (1): ReLU()\n",
            "    (2): Linear(in_features=512, out_features=512, bias=True)\n",
            "    (3): ReLU()\n",
            "    (4): Linear(in_features=512, out_features=10, bias=True)\n",
            "  )\n",
            ")\n"
          ]
        }
      ]
    },
    {
      "cell_type": "markdown",
      "source": [
        "To use the model, we pass it the input data. This executes the model’s forward, along with some background operations. Do not call model.forward() directly!"
      ],
      "metadata": {
        "id": "CBIILEmPDuAi"
      }
    },
    {
      "cell_type": "code",
      "source": [
        "X=torch.rand(1,28,28, device=device)\n",
        "logits=model(X)\n",
        "# We get the prediction probabilities by passing it through an instance of the nn.Softmax module.\n",
        "predict_prob=nn.Softmax(dim=1)(logits)\n",
        "y_pred=predict_prob.argmax(1)\n",
        "y_pred"
      ],
      "metadata": {
        "colab": {
          "base_uri": "https://localhost:8080/"
        },
        "id": "Iwbk3LkBDtt_",
        "outputId": "2fedc76a-f2fd-4d99-a73e-b93f5ba4a9bf"
      },
      "execution_count": 84,
      "outputs": [
        {
          "output_type": "execute_result",
          "data": {
            "text/plain": [
              "tensor([4], device='cuda:0')"
            ]
          },
          "metadata": {},
          "execution_count": 84
        }
      ]
    },
    {
      "cell_type": "markdown",
      "source": [
        "##Hyperparameters and Optimization\n",
        "Hyperparameters are adjustable parameters that let you control the model optimization process. Different hyperparameter values can impact model training and convergence rates (read more about hyperparameter tuning)\n",
        "\n",
        "We define the following hyperparameters for training:\n",
        "\n",
        "Number of Epochs - the number times to iterate over the dataset\n",
        "\n",
        "Batch Size - the number of data samples propagated through the network before the parameters are updated\n",
        "\n",
        "Learning Rate - how much to update models parameters at each batch/epoch. \n",
        "\n",
        "Smaller values yield slow learning speed, while large values may result in unpredictable behavior during training."
      ],
      "metadata": {
        "id": "LzFSKwL8FBCh"
      }
    },
    {
      "cell_type": "markdown",
      "source": [
        "Once we set our hyperparameters, \n",
        "\n",
        "we can then train and optimize our model with an optimization loop. Each iteration of the optimization loop is called an epoch.\n",
        "\n",
        "Each epoch consists of two main parts:\n",
        "The Train Loop - iterate over the training dataset and try to converge to optimal parameters.\n",
        "The Validation/Test Loop - iterate over the test dataset to check if model performance is improving."
      ],
      "metadata": {
        "id": "qTMyPkgaFMiC"
      }
    },
    {
      "cell_type": "markdown",
      "source": [
        "#Loss Function\n",
        "Common loss functions include nn.MSELoss (Mean Square Error) for regression tasks, and nn.NLLLoss (Negative Log Likelihood) for classification. nn.CrossEntropyLoss combines nn.LogSoftmax and nn.NLLLoss."
      ],
      "metadata": {
        "id": "VJ_Y2CPEFWsG"
      }
    },
    {
      "cell_type": "markdown",
      "source": [
        "#Optimization algorithms \n",
        "\n",
        "how this process is performed (in this example we use Stochastic Gradient Descent). All optimization logic is encapsulated in the optimizer object. \n",
        "\n",
        "There are many different optimizers available in PyTorch such as ADAM and RMSProp, that work better for different kinds of models and data."
      ],
      "metadata": {
        "id": "Lut4ut-gFi4y"
      }
    },
    {
      "cell_type": "markdown",
      "source": [
        "In the code below, we run a full implementation of a neural network in PyTorch. We define `train_loop` that loops over our optimization code, and `test_loop` that evaluates the model’s performance against our test data."
      ],
      "metadata": {
        "id": "Zh9O3KjGGXnF"
      }
    },
    {
      "cell_type": "code",
      "source": [
        "def train_loop(dataloader, model, loss_fn, optimizer):\n",
        "    size = len(dataloader.dataset)\n",
        "    for batch, (X, y) in enumerate(dataloader):\n",
        "        # Compute prediction and loss\n",
        "        pred = model(X)\n",
        "        loss = loss_fn(pred, y)\n",
        "\n",
        "        # Backpropagation\n",
        "        optimizer.zero_grad()\n",
        "        loss.backward()\n",
        "        optimizer.step()\n",
        "\n",
        "        if batch % 100 == 0:\n",
        "            loss, current = loss.item(), batch * len(X)\n",
        "            print(f\"loss: {loss:>7f}  [{current:>5d}/{size:>5d}]\")\n",
        "\n",
        "\n",
        "def test_loop(dataloader, model, loss_fn):\n",
        "    size = len(dataloader.dataset)\n",
        "    num_batches = len(dataloader)\n",
        "    test_loss, correct = 0, 0\n",
        "\n",
        "    with torch.no_grad():\n",
        "        for X, y in dataloader:\n",
        "            pred = model(X)\n",
        "            test_loss += loss_fn(pred, y).item()\n",
        "            correct += (pred.argmax(1) == y).type(torch.float).sum().item()\n",
        "\n",
        "    test_loss /= num_batches\n",
        "    correct /= size\n",
        "    print(test_loss)\n",
        "    print(correct)"
      ],
      "metadata": {
        "id": "M4b88oOeF6H8"
      },
      "execution_count": 85,
      "outputs": []
    },
    {
      "cell_type": "code",
      "source": [
        "loss_fn = nn.CrossEntropyLoss()\n",
        "optimizer = torch.optim.SGD(model.parameters(), lr=0.001)\n",
        "\n",
        "epochs = 10\n",
        "for t in range(epochs):\n",
        "    print(f\"Epoch {t+1}\\n-------------------------------\")\n",
        "    train_loop(train_dl, model, loss_fn, optimizer)\n",
        "    test_loop(test_dl, model, loss_fn)\n",
        "print(\"Done!\")"
      ],
      "metadata": {
        "colab": {
          "base_uri": "https://localhost:8080/",
          "height": 397
        },
        "id": "wHb1kUwSFJIB",
        "outputId": "d90ecd9b-8d9d-4617-939f-60c35a00ad4d"
      },
      "execution_count": 86,
      "outputs": [
        {
          "output_type": "stream",
          "name": "stdout",
          "text": [
            "Epoch 1\n",
            "-------------------------------\n"
          ]
        },
        {
          "output_type": "error",
          "ename": "RuntimeError",
          "evalue": "ignored",
          "traceback": [
            "\u001b[0;31m---------------------------------------------------------------------------\u001b[0m",
            "\u001b[0;31mRuntimeError\u001b[0m                              Traceback (most recent call last)",
            "\u001b[0;32m<ipython-input-86-ab19536fc66d>\u001b[0m in \u001b[0;36m<module>\u001b[0;34m\u001b[0m\n\u001b[1;32m      5\u001b[0m \u001b[0;32mfor\u001b[0m \u001b[0mt\u001b[0m \u001b[0;32min\u001b[0m \u001b[0mrange\u001b[0m\u001b[0;34m(\u001b[0m\u001b[0mepochs\u001b[0m\u001b[0;34m)\u001b[0m\u001b[0;34m:\u001b[0m\u001b[0;34m\u001b[0m\u001b[0;34m\u001b[0m\u001b[0m\n\u001b[1;32m      6\u001b[0m     \u001b[0mprint\u001b[0m\u001b[0;34m(\u001b[0m\u001b[0;34mf\"Epoch {t+1}\\n-------------------------------\"\u001b[0m\u001b[0;34m)\u001b[0m\u001b[0;34m\u001b[0m\u001b[0;34m\u001b[0m\u001b[0m\n\u001b[0;32m----> 7\u001b[0;31m     \u001b[0mtrain_loop\u001b[0m\u001b[0;34m(\u001b[0m\u001b[0mtrain_dl\u001b[0m\u001b[0;34m,\u001b[0m \u001b[0mmodel\u001b[0m\u001b[0;34m,\u001b[0m \u001b[0mloss_fn\u001b[0m\u001b[0;34m,\u001b[0m \u001b[0moptimizer\u001b[0m\u001b[0;34m)\u001b[0m\u001b[0;34m\u001b[0m\u001b[0;34m\u001b[0m\u001b[0m\n\u001b[0m\u001b[1;32m      8\u001b[0m     \u001b[0mtest_loop\u001b[0m\u001b[0;34m(\u001b[0m\u001b[0mtest_dl\u001b[0m\u001b[0;34m,\u001b[0m \u001b[0mmodel\u001b[0m\u001b[0;34m,\u001b[0m \u001b[0mloss_fn\u001b[0m\u001b[0;34m)\u001b[0m\u001b[0;34m\u001b[0m\u001b[0;34m\u001b[0m\u001b[0m\n\u001b[1;32m      9\u001b[0m \u001b[0mprint\u001b[0m\u001b[0;34m(\u001b[0m\u001b[0;34m\"Done!\"\u001b[0m\u001b[0;34m)\u001b[0m\u001b[0;34m\u001b[0m\u001b[0;34m\u001b[0m\u001b[0m\n",
            "\u001b[0;32m<ipython-input-85-2f7e38bca55c>\u001b[0m in \u001b[0;36mtrain_loop\u001b[0;34m(dataloader, model, loss_fn, optimizer)\u001b[0m\n\u001b[1;32m      3\u001b[0m     \u001b[0;32mfor\u001b[0m \u001b[0mbatch\u001b[0m\u001b[0;34m,\u001b[0m \u001b[0;34m(\u001b[0m\u001b[0mX\u001b[0m\u001b[0;34m,\u001b[0m \u001b[0my\u001b[0m\u001b[0;34m)\u001b[0m \u001b[0;32min\u001b[0m \u001b[0menumerate\u001b[0m\u001b[0;34m(\u001b[0m\u001b[0mdataloader\u001b[0m\u001b[0;34m)\u001b[0m\u001b[0;34m:\u001b[0m\u001b[0;34m\u001b[0m\u001b[0;34m\u001b[0m\u001b[0m\n\u001b[1;32m      4\u001b[0m         \u001b[0;31m# Compute prediction and loss\u001b[0m\u001b[0;34m\u001b[0m\u001b[0;34m\u001b[0m\u001b[0;34m\u001b[0m\u001b[0m\n\u001b[0;32m----> 5\u001b[0;31m         \u001b[0mpred\u001b[0m \u001b[0;34m=\u001b[0m \u001b[0mmodel\u001b[0m\u001b[0;34m(\u001b[0m\u001b[0mX\u001b[0m\u001b[0;34m)\u001b[0m\u001b[0;34m\u001b[0m\u001b[0;34m\u001b[0m\u001b[0m\n\u001b[0m\u001b[1;32m      6\u001b[0m         \u001b[0mloss\u001b[0m \u001b[0;34m=\u001b[0m \u001b[0mloss_fn\u001b[0m\u001b[0;34m(\u001b[0m\u001b[0mpred\u001b[0m\u001b[0;34m,\u001b[0m \u001b[0my\u001b[0m\u001b[0;34m)\u001b[0m\u001b[0;34m\u001b[0m\u001b[0;34m\u001b[0m\u001b[0m\n\u001b[1;32m      7\u001b[0m \u001b[0;34m\u001b[0m\u001b[0m\n",
            "\u001b[0;32m/usr/local/lib/python3.8/dist-packages/torch/nn/modules/module.py\u001b[0m in \u001b[0;36m_call_impl\u001b[0;34m(self, *input, **kwargs)\u001b[0m\n\u001b[1;32m   1192\u001b[0m         if not (self._backward_hooks or self._forward_hooks or self._forward_pre_hooks or _global_backward_hooks\n\u001b[1;32m   1193\u001b[0m                 or _global_forward_hooks or _global_forward_pre_hooks):\n\u001b[0;32m-> 1194\u001b[0;31m             \u001b[0;32mreturn\u001b[0m \u001b[0mforward_call\u001b[0m\u001b[0;34m(\u001b[0m\u001b[0;34m*\u001b[0m\u001b[0minput\u001b[0m\u001b[0;34m,\u001b[0m \u001b[0;34m**\u001b[0m\u001b[0mkwargs\u001b[0m\u001b[0;34m)\u001b[0m\u001b[0;34m\u001b[0m\u001b[0;34m\u001b[0m\u001b[0m\n\u001b[0m\u001b[1;32m   1195\u001b[0m         \u001b[0;31m# Do not call functions when jit is used\u001b[0m\u001b[0;34m\u001b[0m\u001b[0;34m\u001b[0m\u001b[0;34m\u001b[0m\u001b[0m\n\u001b[1;32m   1196\u001b[0m         \u001b[0mfull_backward_hooks\u001b[0m\u001b[0;34m,\u001b[0m \u001b[0mnon_full_backward_hooks\u001b[0m \u001b[0;34m=\u001b[0m \u001b[0;34m[\u001b[0m\u001b[0;34m]\u001b[0m\u001b[0;34m,\u001b[0m \u001b[0;34m[\u001b[0m\u001b[0;34m]\u001b[0m\u001b[0;34m\u001b[0m\u001b[0;34m\u001b[0m\u001b[0m\n",
            "\u001b[0;32m<ipython-input-82-c7754d280d3e>\u001b[0m in \u001b[0;36mforward\u001b[0;34m(self, x)\u001b[0m\n\u001b[1;32m     15\u001b[0m   \u001b[0;32mdef\u001b[0m \u001b[0mforward\u001b[0m\u001b[0;34m(\u001b[0m\u001b[0mself\u001b[0m\u001b[0;34m,\u001b[0m \u001b[0mx\u001b[0m\u001b[0;34m)\u001b[0m\u001b[0;34m:\u001b[0m\u001b[0;34m\u001b[0m\u001b[0;34m\u001b[0m\u001b[0m\n\u001b[1;32m     16\u001b[0m         \u001b[0mx\u001b[0m \u001b[0;34m=\u001b[0m \u001b[0mself\u001b[0m\u001b[0;34m.\u001b[0m\u001b[0mflatten\u001b[0m\u001b[0;34m(\u001b[0m\u001b[0mx\u001b[0m\u001b[0;34m)\u001b[0m\u001b[0;34m\u001b[0m\u001b[0;34m\u001b[0m\u001b[0m\n\u001b[0;32m---> 17\u001b[0;31m         \u001b[0mlogits\u001b[0m \u001b[0;34m=\u001b[0m \u001b[0mself\u001b[0m\u001b[0;34m.\u001b[0m\u001b[0mlinear_relu_stack\u001b[0m\u001b[0;34m(\u001b[0m\u001b[0mx\u001b[0m\u001b[0;34m)\u001b[0m\u001b[0;34m\u001b[0m\u001b[0;34m\u001b[0m\u001b[0m\n\u001b[0m\u001b[1;32m     18\u001b[0m         \u001b[0;32mreturn\u001b[0m \u001b[0mlogits\u001b[0m\u001b[0;34m\u001b[0m\u001b[0;34m\u001b[0m\u001b[0m\n",
            "\u001b[0;32m/usr/local/lib/python3.8/dist-packages/torch/nn/modules/module.py\u001b[0m in \u001b[0;36m_call_impl\u001b[0;34m(self, *input, **kwargs)\u001b[0m\n\u001b[1;32m   1192\u001b[0m         if not (self._backward_hooks or self._forward_hooks or self._forward_pre_hooks or _global_backward_hooks\n\u001b[1;32m   1193\u001b[0m                 or _global_forward_hooks or _global_forward_pre_hooks):\n\u001b[0;32m-> 1194\u001b[0;31m             \u001b[0;32mreturn\u001b[0m \u001b[0mforward_call\u001b[0m\u001b[0;34m(\u001b[0m\u001b[0;34m*\u001b[0m\u001b[0minput\u001b[0m\u001b[0;34m,\u001b[0m \u001b[0;34m**\u001b[0m\u001b[0mkwargs\u001b[0m\u001b[0;34m)\u001b[0m\u001b[0;34m\u001b[0m\u001b[0;34m\u001b[0m\u001b[0m\n\u001b[0m\u001b[1;32m   1195\u001b[0m         \u001b[0;31m# Do not call functions when jit is used\u001b[0m\u001b[0;34m\u001b[0m\u001b[0;34m\u001b[0m\u001b[0;34m\u001b[0m\u001b[0m\n\u001b[1;32m   1196\u001b[0m         \u001b[0mfull_backward_hooks\u001b[0m\u001b[0;34m,\u001b[0m \u001b[0mnon_full_backward_hooks\u001b[0m \u001b[0;34m=\u001b[0m \u001b[0;34m[\u001b[0m\u001b[0;34m]\u001b[0m\u001b[0;34m,\u001b[0m \u001b[0;34m[\u001b[0m\u001b[0;34m]\u001b[0m\u001b[0;34m\u001b[0m\u001b[0;34m\u001b[0m\u001b[0m\n",
            "\u001b[0;32m/usr/local/lib/python3.8/dist-packages/torch/nn/modules/container.py\u001b[0m in \u001b[0;36mforward\u001b[0;34m(self, input)\u001b[0m\n\u001b[1;32m    202\u001b[0m     \u001b[0;32mdef\u001b[0m \u001b[0mforward\u001b[0m\u001b[0;34m(\u001b[0m\u001b[0mself\u001b[0m\u001b[0;34m,\u001b[0m \u001b[0minput\u001b[0m\u001b[0;34m)\u001b[0m\u001b[0;34m:\u001b[0m\u001b[0;34m\u001b[0m\u001b[0;34m\u001b[0m\u001b[0m\n\u001b[1;32m    203\u001b[0m         \u001b[0;32mfor\u001b[0m \u001b[0mmodule\u001b[0m \u001b[0;32min\u001b[0m \u001b[0mself\u001b[0m\u001b[0;34m:\u001b[0m\u001b[0;34m\u001b[0m\u001b[0;34m\u001b[0m\u001b[0m\n\u001b[0;32m--> 204\u001b[0;31m             \u001b[0minput\u001b[0m \u001b[0;34m=\u001b[0m \u001b[0mmodule\u001b[0m\u001b[0;34m(\u001b[0m\u001b[0minput\u001b[0m\u001b[0;34m)\u001b[0m\u001b[0;34m\u001b[0m\u001b[0;34m\u001b[0m\u001b[0m\n\u001b[0m\u001b[1;32m    205\u001b[0m         \u001b[0;32mreturn\u001b[0m \u001b[0minput\u001b[0m\u001b[0;34m\u001b[0m\u001b[0;34m\u001b[0m\u001b[0m\n\u001b[1;32m    206\u001b[0m \u001b[0;34m\u001b[0m\u001b[0m\n",
            "\u001b[0;32m/usr/local/lib/python3.8/dist-packages/torch/nn/modules/module.py\u001b[0m in \u001b[0;36m_call_impl\u001b[0;34m(self, *input, **kwargs)\u001b[0m\n\u001b[1;32m   1192\u001b[0m         if not (self._backward_hooks or self._forward_hooks or self._forward_pre_hooks or _global_backward_hooks\n\u001b[1;32m   1193\u001b[0m                 or _global_forward_hooks or _global_forward_pre_hooks):\n\u001b[0;32m-> 1194\u001b[0;31m             \u001b[0;32mreturn\u001b[0m \u001b[0mforward_call\u001b[0m\u001b[0;34m(\u001b[0m\u001b[0;34m*\u001b[0m\u001b[0minput\u001b[0m\u001b[0;34m,\u001b[0m \u001b[0;34m**\u001b[0m\u001b[0mkwargs\u001b[0m\u001b[0;34m)\u001b[0m\u001b[0;34m\u001b[0m\u001b[0;34m\u001b[0m\u001b[0m\n\u001b[0m\u001b[1;32m   1195\u001b[0m         \u001b[0;31m# Do not call functions when jit is used\u001b[0m\u001b[0;34m\u001b[0m\u001b[0;34m\u001b[0m\u001b[0;34m\u001b[0m\u001b[0m\n\u001b[1;32m   1196\u001b[0m         \u001b[0mfull_backward_hooks\u001b[0m\u001b[0;34m,\u001b[0m \u001b[0mnon_full_backward_hooks\u001b[0m \u001b[0;34m=\u001b[0m \u001b[0;34m[\u001b[0m\u001b[0;34m]\u001b[0m\u001b[0;34m,\u001b[0m \u001b[0;34m[\u001b[0m\u001b[0;34m]\u001b[0m\u001b[0;34m\u001b[0m\u001b[0;34m\u001b[0m\u001b[0m\n",
            "\u001b[0;32m/usr/local/lib/python3.8/dist-packages/torch/nn/modules/linear.py\u001b[0m in \u001b[0;36mforward\u001b[0;34m(self, input)\u001b[0m\n\u001b[1;32m    112\u001b[0m \u001b[0;34m\u001b[0m\u001b[0m\n\u001b[1;32m    113\u001b[0m     \u001b[0;32mdef\u001b[0m \u001b[0mforward\u001b[0m\u001b[0;34m(\u001b[0m\u001b[0mself\u001b[0m\u001b[0;34m,\u001b[0m \u001b[0minput\u001b[0m\u001b[0;34m:\u001b[0m \u001b[0mTensor\u001b[0m\u001b[0;34m)\u001b[0m \u001b[0;34m->\u001b[0m \u001b[0mTensor\u001b[0m\u001b[0;34m:\u001b[0m\u001b[0;34m\u001b[0m\u001b[0;34m\u001b[0m\u001b[0m\n\u001b[0;32m--> 114\u001b[0;31m         \u001b[0;32mreturn\u001b[0m \u001b[0mF\u001b[0m\u001b[0;34m.\u001b[0m\u001b[0mlinear\u001b[0m\u001b[0;34m(\u001b[0m\u001b[0minput\u001b[0m\u001b[0;34m,\u001b[0m \u001b[0mself\u001b[0m\u001b[0;34m.\u001b[0m\u001b[0mweight\u001b[0m\u001b[0;34m,\u001b[0m \u001b[0mself\u001b[0m\u001b[0;34m.\u001b[0m\u001b[0mbias\u001b[0m\u001b[0;34m)\u001b[0m\u001b[0;34m\u001b[0m\u001b[0;34m\u001b[0m\u001b[0m\n\u001b[0m\u001b[1;32m    115\u001b[0m \u001b[0;34m\u001b[0m\u001b[0m\n\u001b[1;32m    116\u001b[0m     \u001b[0;32mdef\u001b[0m \u001b[0mextra_repr\u001b[0m\u001b[0;34m(\u001b[0m\u001b[0mself\u001b[0m\u001b[0;34m)\u001b[0m \u001b[0;34m->\u001b[0m \u001b[0mstr\u001b[0m\u001b[0;34m:\u001b[0m\u001b[0;34m\u001b[0m\u001b[0;34m\u001b[0m\u001b[0m\n",
            "\u001b[0;31mRuntimeError\u001b[0m: Expected all tensors to be on the same device, but found at least two devices, cuda:0 and cpu! (when checking argument for argument mat1 in method wrapper_addmm)"
          ]
        }
      ]
    }
  ]
}